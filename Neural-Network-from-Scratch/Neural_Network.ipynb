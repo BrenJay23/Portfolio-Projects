{
 "cells": [
  {
   "cell_type": "code",
   "execution_count": 1,
   "metadata": {},
   "outputs": [],
   "source": [
    "import numpy as np\n",
    "import matplotlib.pyplot as plt"
   ]
  },
  {
   "cell_type": "code",
   "execution_count": 2,
   "metadata": {},
   "outputs": [],
   "source": [
    "def GetBatchIndex(num_data, mini_batch_size):\n",
    "    # Get the index per batch\n",
    "    batch_index = []\n",
    "    for m in range(num_data // mini_batch_size + 1):\n",
    "        batch_index.append(m*mini_batch_size)\n",
    "    if num_data % mini_batch_size != 0: # For dataset not divisible by batch size\n",
    "        batch_index.append(num_data)\n",
    "    return batch_index"
   ]
  },
  {
   "cell_type": "code",
   "execution_count": 3,
   "metadata": {},
   "outputs": [],
   "source": [
    "def RandomBatches(X, y, num_data):\n",
    "    # Randomize the order of data and label\n",
    "    permute = np.random.permutation(num_data) # Random index\n",
    "    return X[:, permute], y[:, permute]"
   ]
  },
  {
   "cell_type": "code",
   "execution_count": 4,
   "metadata": {},
   "outputs": [],
   "source": [
    "def Initialization(layers_neurons):\n",
    "    # Initialize weights to random number and previous iteration Delta to zero (used in momentum term)\n",
    "    weights = []\n",
    "    bias = []\n",
    "    prev_Delta_w = []\n",
    "    prev_Delta_b = []\n",
    "    layers = len(layers_neurons)\n",
    "    for l in range(1, layers): # The first layer is input layer\n",
    "        # w = np.random.randn(layers_neurons[l], layers_neurons[l-1]) * 0.01\n",
    "        w = np.random.uniform(\n",
    "            2.4/layers_neurons[l-1], -2.4/layers_neurons[l-1], # +-2.4 divided by Fan-in or number of input\n",
    "            size=(layers_neurons[l], layers_neurons[l-1]))\n",
    "        b = np.zeros((layers_neurons[l],1))\n",
    "        weights.append(w)\n",
    "        bias.append(b)\n",
    "        prev_Delta_w.append(np.zeros_like(w))\n",
    "        prev_Delta_b.append(np.zeros_like(b))\n",
    "    return weights, bias, prev_Delta_w, prev_Delta_b"
   ]
  },
  {
   "cell_type": "code",
   "execution_count": 5,
   "metadata": {},
   "outputs": [],
   "source": [
    "def ActivationFunction(x, activation):\n",
    "    # Activation formula used in forward propaation\n",
    "    if activation == 'Logistic':\n",
    "        f = 1/(1 + np.exp(-x))\n",
    "        return f\n",
    "    if activation == 'ReLU':\n",
    "        f = np.maximum(0, x)\n",
    "        return f"
   ]
  },
  {
   "cell_type": "code",
   "execution_count": 6,
   "metadata": {},
   "outputs": [],
   "source": [
    "def ForwardCompute(weights, bias, input, activations):\n",
    "    # Forward Propagation\n",
    "    x = input # Output of current layer\n",
    "    activity = [x] # Values to be used later in backprop & weight update\n",
    "    for A, b, activation in zip(weights, bias, activations):\n",
    "        h = A @ x + b\n",
    "        x = ActivationFunction(h, activation)\n",
    "        activity.append(h)\n",
    "        activity.append(x)\n",
    "    return activity # activity = list(input, h1, x1,...,hn, xn)"
   ]
  },
  {
   "cell_type": "code",
   "execution_count": 7,
   "metadata": {},
   "outputs": [],
   "source": [
    "def ErrorCompute(y_predicted, y_batch):\n",
    "    # Compute the sum of squares error\n",
    "    N = y_batch.shape[1] # Number of examples\n",
    "    log_cost = np.multiply(-np.log(y_predicted), y_batch) + np.multiply(-np.log(1 - y_predicted), 1 - y_batch)\n",
    "    cost = 1/N * np.sum(log_cost)\n",
    "    Dcost = 1/N * (y_batch - y_predicted) # Derivative cost * Derivative logistic (simplified)\n",
    "    return cost, Dcost"
   ]
  },
  {
   "cell_type": "code",
   "execution_count": 8,
   "metadata": {},
   "outputs": [],
   "source": [
    "def DActivation(h, x, activation):\n",
    "    # Derivative of activation function to be used in Backpropagation\n",
    "    if activation == 'Logistic':\n",
    "        D_phi = x * (1 - x)\n",
    "        return D_phi\n",
    "    if activation == 'ReLU':\n",
    "        D_phi = np.where(h>0, 1, 0) # Derivative is 1 if greater than 0 and 0 otherwise\n",
    "        return D_phi"
   ]
  },
  {
   "cell_type": "code",
   "execution_count": 9,
   "metadata": {},
   "outputs": [],
   "source": [
    "def Backpropagation(weights, activations, activity, Dcost):\n",
    "    # Backpropagation to calculate the delta or local gradient\n",
    "    delta = []\n",
    "    delta.append(Dcost)\n",
    "    q = Dcost # Local gradient of the last layer\n",
    "    # Dcost * DActivation(activity[-2], activity[-1][1:], activations[-1]) <-- if not classification\n",
    "    for j in reversed(range(1, len(weights))): # Backprop starts with the last layer\n",
    "        # Hidden Neuron: delta_hidden = activation_derivative * A.T @ q\n",
    "        delta_h = DActivation(activity[2*(j)-1], activity[2*(j)], activations[j-1]) * (weights[j].T @ q)\n",
    "        delta = [delta_h] + delta # Append delta to the front of the list\n",
    "        q = delta_h # delta[l+1]\n",
    "    return delta"
   ]
  },
  {
   "cell_type": "code",
   "execution_count": 10,
   "metadata": {},
   "outputs": [],
   "source": [
    "def WeightUpdate(delta, weights, bias, prev_Delta_w, prev_Delta_b, activity, learning_rate, beta):\n",
    "    # Updates the weight and optimize with momentum term\n",
    "    for j in reversed(range(len(weights))):\n",
    "        # Delta_w = learning_rate * q @ x.T + momentum_rate * prev_Delta\n",
    "        Delta_w = learning_rate * delta[j] @ activity[2*(j)].T + beta * prev_Delta_w[j]\n",
    "        Delta_b = learning_rate * np.sum(delta[j], axis=1, keepdims=True) + beta * prev_Delta_b[j]\n",
    "        prev_Delta_w[j] = Delta_w\n",
    "        prev_Delta_b[j] = Delta_b\n",
    "        weights[j] += Delta_w\n",
    "        bias[j] += Delta_b\n",
    "    return weights, bias, prev_Delta_w, prev_Delta_b"
   ]
  },
  {
   "cell_type": "code",
   "execution_count": 11,
   "metadata": {},
   "outputs": [],
   "source": [
    "def Predict(weights, bias, X, activations):\n",
    "    # Make predictions based on the trained weights\n",
    "    y_predict = ForwardCompute(weights, bias, X, activations)[-1]\n",
    "    predictions = np.argmax(y_predict, axis=0) # Index of maximum value in the output neuron\n",
    "    return predictions, y_predict # predictions is in integer form"
   ]
  },
  {
   "cell_type": "code",
   "execution_count": 12,
   "metadata": {},
   "outputs": [],
   "source": [
    "def MLP(X, y, X_v, y_v, layers_neurons, activations, mini_batch_size=8, learning_rate=0.001, beta=0.1, epoch=200):\n",
    "    error_train = np.zeros(epoch+1) # Errors of the training set every epoch\n",
    "    error_v = np.zeros(epoch+1) # Errors of the validation set every epoch\n",
    "    num_data = X.shape[1] # Number of training examples\n",
    "    batch_index = GetBatchIndex(num_data, mini_batch_size)\n",
    "    batches = len(batch_index) # Number of mini batches\n",
    "    weights, bias, prev_Delta_w, prev_Delta_b = Initialization(layers_neurons)\n",
    "    for i in range(epoch+1):\n",
    "        X_random, y_random = RandomBatches(X, y, num_data)\n",
    "        batch_cost = 0 # Cumulative cost of batches\n",
    "        for index in range(1, batches):\n",
    "            # Randomize the training data and labels based on permuted index\n",
    "            X_batch = X_random[:, batch_index[index-1]:batch_index[index]]\n",
    "            y_batch = y_random[:, batch_index[index-1]:batch_index[index]]\n",
    "            activity = ForwardCompute(weights, bias, X_batch, activations)\n",
    "            y_predict_train = activity[-1]\n",
    "            cost, Dcost = ErrorCompute(y_predict_train, y_batch)\n",
    "            batch_cost += cost\n",
    "            delta = Backpropagation(weights, activations, activity, Dcost)\n",
    "            weights, bias, prev_Delta_w, prev_Delta_b  = WeightUpdate(delta, weights, bias, prev_Delta_w, prev_Delta_b, activity, learning_rate, beta)\n",
    "        cost_avg = batch_cost/(batches-1) # Average batch cost per epoch\n",
    "        error_train[i] = cost_avg\n",
    "        _, y_predict_v = Predict(weights, bias, X_v, activations)\n",
    "        error_v[i], _ = ErrorCompute(y_predict_v, y_v)\n",
    "    return error_train, error_v, weights, bias"
   ]
  },
  {
   "cell_type": "code",
   "execution_count": 13,
   "metadata": {},
   "outputs": [],
   "source": [
    "def GraphError(epoch, error_train, error_validation):\n",
    "    e1 = np.arange(0, epoch+1)\n",
    "    plt.figure()\n",
    "    plt.plot(e1, error_train, label='Training')\n",
    "    plt.plot(e1, error_validation, label='Validation')\n",
    "    plt.legend()\n",
    "    plt.xlabel('epoch')\n",
    "    plt.ylabel('error')\n",
    "    plt.title('Metrics')\n",
    "    return"
   ]
  },
  {
   "cell_type": "code",
   "execution_count": 14,
   "metadata": {},
   "outputs": [],
   "source": [
    "def GraphConfusionMatrix(weights, bias, X_test, y_test, activations):\n",
    "    num_class = y_test.shape[0]\n",
    "    predictions, _ = Predict(weights, bias, X_test, activations)\n",
    "    true_labels = np.argmax(y_test, axis=0)\n",
    "\n",
    "    # Compute the confusion matrix\n",
    "    confusion_matrix = np.zeros((num_class, num_class), dtype=int)\n",
    "    for true_label, pred_label in zip(true_labels, predictions):\n",
    "        confusion_matrix[true_label, pred_label] += 1\n",
    "        \n",
    "    # Plot the confusion matrix\n",
    "    plt.figure(figsize=(num_class, num_class))\n",
    "    plt.imshow(confusion_matrix, cmap='Blues')\n",
    "    plt.title(\"Confusion Matrix\")\n",
    "    plt.xlabel(\"Predicted Labels\")\n",
    "    plt.ylabel(\"True Labels\")\n",
    "\n",
    "    # Add labels to the plot\n",
    "    tick_marks = np.arange(10)\n",
    "    plt.xticks(tick_marks, range(0, num_class))\n",
    "    plt.yticks(tick_marks, range(0, num_class))\n",
    "\n",
    "    # Add values to the confusion matrix cells\n",
    "    thresh = confusion_matrix.max() / 2\n",
    "    for i in range(num_class):\n",
    "        for j in range(num_class):\n",
    "            plt.text(j, i, int(confusion_matrix[i, j]), ha=\"center\", va=\"center\",\n",
    "                    color=\"white\" if confusion_matrix[i, j] > thresh else \"black\")\n",
    "    return confusion_matrix"
   ]
  },
  {
   "cell_type": "code",
   "execution_count": 15,
   "metadata": {},
   "outputs": [],
   "source": [
    "def ComputeMetrics(confusion_matrix):\n",
    "    # Number of classes\n",
    "    num_classes = confusion_matrix.shape[0]\n",
    "\n",
    "    # Initialize arrays\n",
    "    TP = np.zeros(num_classes)\n",
    "    TN = np.zeros(num_classes)\n",
    "    FP = np.zeros(num_classes)\n",
    "    FN = np.zeros(num_classes)\n",
    "\n",
    "    # Iterate over each class\n",
    "    for i in range(num_classes):\n",
    "        # True positives: diagonal element of the class\n",
    "        TP[i] = confusion_matrix[i, i]\n",
    "        # True negatives: sum of all elements except the row and column of the class\n",
    "        TN[i] = np.sum(confusion_matrix) - np.sum(confusion_matrix[i, :]) - np.sum(confusion_matrix[:, i]) + TP[i]\n",
    "        # False positives: sum of the column excluding the diagonal element\n",
    "        FP[i] = np.sum(confusion_matrix[:, i]) - TP[i]\n",
    "        # False negatives: sum of the row excluding the diagonal element\n",
    "        FN[i] = np.sum(confusion_matrix[i, :]) - TP[i]\n",
    "\n",
    "    accuracy = (TP + TN) / (TP + TN + FP + FN)\n",
    "    precision = TP / (TP + FP)\n",
    "    recall = TP / (TP + FN)\n",
    "    f1_score = 2 * (precision * recall) / (precision + recall)\n",
    "    metrics = np.array([accuracy.mean(), precision.mean(), recall.mean(), f1_score.mean()])\n",
    "    metrics_class = np.hstack([np.vstack([accuracy, precision, recall, f1_score]), metrics.reshape(-1,1)])\n",
    "    print('accuracy:', metrics[0], '\\nprecision:', metrics[1], '\\nrecall:', metrics[2], '\\nf1_score:', metrics[3])\n",
    "    return metrics_class"
   ]
  },
  {
   "cell_type": "code",
   "execution_count": 16,
   "metadata": {},
   "outputs": [],
   "source": [
    "def OneHot(data):\n",
    "    # One-hot encoding\n",
    "    one_hot = np.eye(data.max()+1)[:,data]\n",
    "    return one_hot"
   ]
  },
  {
   "cell_type": "code",
   "execution_count": 17,
   "metadata": {},
   "outputs": [],
   "source": [
    "def TrainTestSplit(X, y):\n",
    "    num_samples = y.shape[1]\n",
    "    permute = np.random.permutation(num_samples)\n",
    "    # permute the data and label arrays\n",
    "    X_permute = X[:,permute] # shuffle the columns of x according to perm\n",
    "    y_permute = y[:,permute] # shuffle the elements of y according to perm\n",
    "    # get the indices to split at\n",
    "    validation_idx = int(0.6 * num_samples) # 60% of the length\n",
    "    test_idx = int(0.8 * num_samples) # 80% of the length\n",
    "    # split the data and label arrays\n",
    "    X_train, X_validation, X_test  = np.split(X_permute, [validation_idx, test_idx], axis=1) # split along the first axis (rows)\n",
    "    y_train, y_validation, y_test = np.split(y_permute, [validation_idx, test_idx], axis=1) # split along the first axis (rows)\n",
    "    return X_train, X_validation, X_test, y_train, y_validation, y_test"
   ]
  },
  {
   "cell_type": "code",
   "execution_count": 266,
   "metadata": {},
   "outputs": [],
   "source": [
    "X = np.loadtxt('data', delimiter=',').T\n",
    "y = OneHot(np.loadtxt('labels').astype(int))\n",
    "X_train, X_validation, X_test, y_train, y_validation, y_test = TrainTestSplit(X, y)"
   ]
  },
  {
   "cell_type": "code",
   "execution_count": 267,
   "metadata": {},
   "outputs": [],
   "source": [
    "layers_neurons = [X.shape[0], 256, 128, 64, 32, y.shape[0]]\n",
    "activations = ['ReLU', 'ReLU', 'ReLU', 'ReLU', 'Logistic']\n",
    "mini_batch_size = 64\n",
    "learning_rate = 0.0009\n",
    "beta = 0.9\n",
    "epoch = 40"
   ]
  },
  {
   "cell_type": "code",
   "execution_count": 268,
   "metadata": {},
   "outputs": [],
   "source": [
    "error_train, error_validation, weights, bias = MLP(\n",
    "    X_train, y_train, X_validation, y_validation,\n",
    "    layers_neurons, activations, mini_batch_size=mini_batch_size,\n",
    "    learning_rate=learning_rate, beta=beta, epoch=epoch)"
   ]
  },
  {
   "cell_type": "code",
   "execution_count": 269,
   "metadata": {},
   "outputs": [
    {
     "data": {
      "image/png": "[encoded data removed]",
      "text/plain": [
       "<Figure size 640x480 with 1 Axes>"
      ]
     },
     "metadata": {},
     "output_type": "display_data"
    }
   ],
   "source": [
    "GraphError(epoch, error_train, error_validation)"
   ]
  },
  {
   "cell_type": "code",
   "execution_count": 270,
   "metadata": {},
   "outputs": [
    {
     "data": {
      "image/png": "[encoded data removed]",
      "text/plain": [
       "<Figure size 1000x1000 with 1 Axes>"
      ]
     },
     "metadata": {},
     "output_type": "display_data"
    }
   ],
   "source": [
    "confusion_matrix = GraphConfusionMatrix(weights, bias, X_test, y_test, activations)"
   ]
  },
  {
   "cell_type": "code",
   "execution_count": 271,
   "metadata": {},
   "outputs": [
    {
     "name": "stdout",
     "output_type": "stream",
     "text": [
      "accuracy: 0.9888 \n",
      "precision: 0.9441947859628076 \n",
      "recall: 0.9442832308988894 \n",
      "f1_score: 0.9441362193384\n"
     ]
    }
   ],
   "source": [
    "Metrics = ComputeMetrics(confusion_matrix)"
   ]
  },
  {
   "cell_type": "code",
   "execution_count": 273,
   "metadata": {},
   "outputs": [
    {
     "data": {
      "text/plain": [
       "array([[0.993     , 0.995     , 0.989     , 0.986     , 0.9895    ,\n",
       "        0.986     , 0.993     , 0.9925    , 0.9815    , 0.9825    ,\n",
       "        0.9888    ],\n",
       "       [0.96969697, 0.97115385, 0.95833333, 0.91981132, 0.95939086,\n",
       "        0.94146341, 0.94475138, 0.96534653, 0.90825688, 0.90374332,\n",
       "        0.94419479],\n",
       "       [0.96      , 0.98058252, 0.92929293, 0.94660194, 0.93564356,\n",
       "        0.92344498, 0.97714286, 0.96059113, 0.92093023, 0.90860215,\n",
       "        0.94428323],\n",
       "       [0.96482412, 0.97584541, 0.94358974, 0.93301435, 0.94736842,\n",
       "        0.93236715, 0.96067416, 0.96296296, 0.91454965, 0.90616622,\n",
       "        0.94413622]])"
      ]
     },
     "execution_count": 273,
     "metadata": {},
     "output_type": "execute_result"
    }
   ],
   "source": [
    "Metrics"
   ]
  },
  {
   "cell_type": "code",
   "execution_count": 276,
   "metadata": {},
   "outputs": [],
   "source": [
    "np.savetxt('Metrics.csv', Metrics, delimiter=',', fmt='%.3f')"
   ]
  },
  {
   "cell_type": "code",
   "execution_count": null,
   "metadata": {},
   "outputs": [],
   "source": []
  }
 ],
 "metadata": {
  "kernelspec": {
   "display_name": "Python 3",
   "language": "python",
   "name": "python3"
  },
  "language_info": {
   "codemirror_mode": {
    "name": "ipython",
    "version": 3
   },
   "file_extension": ".py",
   "mimetype": "text/x-python",
   "name": "python",
   "nbconvert_exporter": "python",
   "pygments_lexer": "ipython3",
   "version": "3.10.5"
  },
  "orig_nbformat": 4
 },
 "nbformat": 4,
 "nbformat_minor": 2
}
