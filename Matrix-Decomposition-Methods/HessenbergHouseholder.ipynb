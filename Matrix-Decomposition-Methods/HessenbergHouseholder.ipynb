{
 "cells": [
  {
   "cell_type": "code",
   "execution_count": 1,
   "metadata": {},
   "outputs": [],
   "source": [
    "import numpy as np\n",
    "np.set_printoptions(precision=3, suppress=True) # Round the results to 3 decimal place"
   ]
  },
  {
   "cell_type": "code",
   "execution_count": 41,
   "metadata": {},
   "outputs": [],
   "source": [
    "def householderHessenberg(matrix):\n",
    "    A = matrix.astype('float')\n",
    "    num_rows, num_columns = matrix.shape\n",
    "    I = np.identity(num_rows)\n",
    "    A_hut = np.copy(A) # initial hessenberg matrix\n",
    "    for column in range(num_columns-2):\n",
    "        x = np.vstack((np.zeros((column+1,1)), A_hut[column+1:, column].reshape(-1,1))) # append zero above the target row\n",
    "        # change the operation depending on the sign\n",
    "        if np.sign(x[column+1]) == 0 or np.sign(x[column+1]) == 1:\n",
    "            x[column+1] += np.linalg.norm(x)\n",
    "        else:\n",
    "            x[column+1] -= np.linalg.norm(x)\n",
    "        u = x/np.linalg.norm(x) # normalize\n",
    "        H = I - 2*u@u.T # householder reflection\n",
    "        A_hut = H @ A_hut @ H\n",
    "        print(f'H{column+1}')\n",
    "        print(H)\n",
    "    return A_hut\n",
    "    "
   ]
  },
  {
   "cell_type": "code",
   "execution_count": 42,
   "metadata": {},
   "outputs": [
    {
     "name": "stdout",
     "output_type": "stream",
     "text": [
      "Original Matrix\n",
      " [[1 7 2 8]\n",
      " [7 4 1 3]\n",
      " [3 0 1 5]\n",
      " [7 1 8 0]]\n"
     ]
    }
   ],
   "source": [
    "# matrix = np.array([[1, 0, 2, 3], [-1, 0, 5, 2], [2, -2, 0, 0], [2, -1, 2, 0]]) # sample matrix\n",
    "matrix = np.random.randint(0, 10, size=(4, 4))\n",
    "print('Original Matrix\\n', matrix)"
   ]
  },
  {
   "cell_type": "code",
   "execution_count": 43,
   "metadata": {},
   "outputs": [
    {
     "name": "stdout",
     "output_type": "stream",
     "text": [
      "H1\n",
      "[[ 1.     0.     0.     0.   ]\n",
      " [ 0.    -0.677 -0.29  -0.677]\n",
      " [ 0.    -0.29   0.95  -0.117]\n",
      " [ 0.    -0.677 -0.117  0.727]]\n",
      "H2\n",
      "[[ 1.     0.     0.     0.   ]\n",
      " [ 0.     1.     0.     0.   ]\n",
      " [ 0.     0.    -0.713  0.701]\n",
      " [ 0.     0.     0.701  0.713]]\n"
     ]
    }
   ],
   "source": [
    "hess = householderHessenberg(matrix)"
   ]
  },
  {
   "cell_type": "code",
   "execution_count": 44,
   "metadata": {},
   "outputs": [
    {
     "name": "stdout",
     "output_type": "stream",
     "text": [
      "Hessenberg Matrix\n",
      " [[  1.    -10.731   1.352  -0.147]\n",
      " [-10.344   6.495   3.686  -2.915]\n",
      " [ -0.      2.358  -5.424   0.489]\n",
      " [  0.     -0.     -1.444   3.928]]\n"
     ]
    }
   ],
   "source": [
    "print('Hessenberg Matrix\\n', hess)"
   ]
  },
  {
   "cell_type": "code",
   "execution_count": null,
   "metadata": {},
   "outputs": [],
   "source": []
  }
 ],
 "metadata": {
  "kernelspec": {
   "display_name": "Python 3",
   "language": "python",
   "name": "python3"
  },
  "language_info": {
   "codemirror_mode": {
    "name": "ipython",
    "version": 3
   },
   "file_extension": ".py",
   "mimetype": "text/x-python",
   "name": "python",
   "nbconvert_exporter": "python",
   "pygments_lexer": "ipython3",
   "version": "3.10.5"
  },
  "orig_nbformat": 4,
  "vscode": {
   "interpreter": {
    "hash": "4d914d97e3f4d299d3539faccc785d8503dce6a4cbd11144ed16eb88aec98655"
   }
  }
 },
 "nbformat": 4,
 "nbformat_minor": 2
}
