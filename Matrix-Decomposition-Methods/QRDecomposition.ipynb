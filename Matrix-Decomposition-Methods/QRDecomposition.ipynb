{
 "cells": [
  {
   "cell_type": "code",
   "execution_count": 1,
   "metadata": {},
   "outputs": [],
   "source": [
    "import numpy as np\n",
    "np.set_printoptions(precision=3, suppress=True) # Round the results to 3 decimal place"
   ]
  },
  {
   "cell_type": "code",
   "execution_count": 2,
   "metadata": {},
   "outputs": [],
   "source": [
    "def decompositionQR(matrix):\n",
    "    A = matrix.astype('float')\n",
    "    num_rows, num_columns = matrix.shape\n",
    "    P = np.identity(num_columns)\n",
    "    Q = np.zeros((num_rows, 1))\n",
    "    # np.argsort return the index of ascending elements and np.flip reverse the order\n",
    "    pivoting = np.flip(np.argsort(np.linalg.norm(A, axis=0))) # Column pivoting\n",
    "    A = A[:, pivoting]\n",
    "    P = P[:, pivoting]\n",
    "    Q[:, 0] = A[:, 0] / np.linalg.norm(A[:, 0]) # Calculates the initial orthonormal vector\n",
    "    for column in range(1, min(num_rows, num_columns)): # The min function takes care of rectangular matrix\n",
    "        P_Q = Q[:, :column] @ Q[:, :column].T\n",
    "        p = P_Q @ A[:, [column]] # Projection of the current column\n",
    "        e = A[:, [column]] - p # Orthogonal vector\n",
    "        Q = np.hstack((Q, e / np.linalg.norm(e))) # Append the resulting orthonormal vector\n",
    "    R = Q.T @ A # Calculate the upper triangular matrix, Q^-1 = Q^T since Q is orthogonal matrix\n",
    "    return P, Q, R"
   ]
  },
  {
   "cell_type": "code",
   "execution_count": 3,
   "metadata": {},
   "outputs": [
    {
     "name": "stdout",
     "output_type": "stream",
     "text": [
      "Original Matrix\n",
      " [[  0.02   1.   100.  ]\n",
      " [  0.04   2.    45.  ]\n",
      " [ -0.01   3.    16.  ]\n",
      " [  0.05   4.    32.  ]\n",
      " [  0.07   5.    64.  ]]\n"
     ]
    }
   ],
   "source": [
    "matrix = np.array([[2/100, 4/100, -1/100, 5/100, 7/100], [1, 2, 3, 4, 5], [100, 45, 16, 32, 64]]).T #sample matrix\n",
    "print('Original Matrix\\n', matrix)"
   ]
  },
  {
   "cell_type": "code",
   "execution_count": 4,
   "metadata": {},
   "outputs": [],
   "source": [
    "P, Q, R, = decompositionQR(matrix)"
   ]
  },
  {
   "cell_type": "code",
   "execution_count": 5,
   "metadata": {},
   "outputs": [
    {
     "name": "stdout",
     "output_type": "stream",
     "text": [
      "Permutation Matrix\n",
      " [[0. 0. 1.]\n",
      " [0. 1. 0.]\n",
      " [1. 0. 0.]]\n",
      "Q Matrix\n",
      " [[ 0.758 -0.556 -0.241]\n",
      " [ 0.341  0.043  0.285]\n",
      " [ 0.121  0.448 -0.858]\n",
      " [ 0.243  0.518  0.196]\n",
      " [ 0.485  0.468  0.292]]\n",
      "R Matrix\n",
      " [[131.913   5.2     0.074]\n",
      " [ -0.      5.287   0.045]\n",
      " [ -0.      0.      0.045]]\n",
      "Resulting Matrix\n",
      " [[  0.02   1.   100.  ]\n",
      " [  0.04   2.    45.  ]\n",
      " [ -0.01   3.    16.  ]\n",
      " [  0.05   4.    32.  ]\n",
      " [  0.07   5.    64.  ]]\n"
     ]
    }
   ],
   "source": [
    "print('Permutation Matrix\\n', P)\n",
    "print('Q Matrix\\n', Q)\n",
    "print('R Matrix\\n', R)\n",
    "print('Resulting Matrix\\n', Q @ R @ P.T)"
   ]
  },
  {
   "attachments": {},
   "cell_type": "markdown",
   "metadata": {},
   "source": [
    "QR Decomposition using built-in function (for validation purpose)"
   ]
  },
  {
   "cell_type": "code",
   "execution_count": 6,
   "metadata": {},
   "outputs": [],
   "source": [
    "import scipy as sp\n",
    "q, r, p = sp.linalg.qr(matrix, pivoting=True)\n",
    "p = np.identity(r.shape[1])[:, p]"
   ]
  },
  {
   "cell_type": "code",
   "execution_count": 7,
   "metadata": {},
   "outputs": [
    {
     "name": "stdout",
     "output_type": "stream",
     "text": [
      "Permutation Matrix\n",
      " [[0. 0. 1.]\n",
      " [0. 1. 0.]\n",
      " [1. 0. 0.]]\n",
      "Q Matrix\n",
      " [[-0.758  0.556 -0.241  0.236  0.045]\n",
      " [-0.341 -0.043  0.285 -0.573 -0.687]\n",
      " [-0.121 -0.448 -0.858 -0.187 -0.112]\n",
      " [-0.243 -0.518  0.196  0.711 -0.359]\n",
      " [-0.485 -0.468  0.292 -0.275  0.62 ]]\n",
      "R Matrix\n",
      " [[-131.913   -5.2     -0.074]\n",
      " [   0.      -5.287   -0.045]\n",
      " [   0.       0.       0.045]\n",
      " [   0.       0.       0.   ]\n",
      " [   0.       0.       0.   ]]\n",
      "Resulting Matrix\n",
      " [[  0.02   1.   100.  ]\n",
      " [  0.04   2.    45.  ]\n",
      " [ -0.01   3.    16.  ]\n",
      " [  0.05   4.    32.  ]\n",
      " [  0.07   5.    64.  ]]\n"
     ]
    }
   ],
   "source": [
    "print('Permutation Matrix\\n', p)\n",
    "print('Q Matrix\\n', q)\n",
    "print('R Matrix\\n', r)\n",
    "print('Resulting Matrix\\n', q @ r @ p.T)"
   ]
  },
  {
   "cell_type": "code",
   "execution_count": null,
   "metadata": {},
   "outputs": [],
   "source": []
  }
 ],
 "metadata": {
  "kernelspec": {
   "display_name": "Python 3",
   "language": "python",
   "name": "python3"
  },
  "language_info": {
   "codemirror_mode": {
    "name": "ipython",
    "version": 3
   },
   "file_extension": ".py",
   "mimetype": "text/x-python",
   "name": "python",
   "nbconvert_exporter": "python",
   "pygments_lexer": "ipython3",
   "version": "3.10.5"
  },
  "orig_nbformat": 4,
  "vscode": {
   "interpreter": {
    "hash": "4d914d97e3f4d299d3539faccc785d8503dce6a4cbd11144ed16eb88aec98655"
   }
  }
 },
 "nbformat": 4,
 "nbformat_minor": 2
}
