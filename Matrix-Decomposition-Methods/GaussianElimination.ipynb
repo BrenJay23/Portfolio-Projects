{
 "cells": [
  {
   "cell_type": "code",
   "execution_count": 2,
   "metadata": {},
   "outputs": [],
   "source": [
    "import numpy as np"
   ]
  },
  {
   "attachments": {},
   "cell_type": "markdown",
   "metadata": {},
   "source": [
    "##### **Assumptions:** The pivots are in the diagonal and edge cases are not yet addressed"
   ]
  },
  {
   "cell_type": "code",
   "execution_count": 3,
   "metadata": {},
   "outputs": [],
   "source": [
    "def gaussianElimination(matrix):\n",
    "    matrix = matrix.astype('float')\n",
    "    num_rows = matrix.shape[0]\n",
    "    for pivot in range(num_rows-1):   #pivot\n",
    "        for row in range(pivot + 1, num_rows):  #succeeding row\n",
    "            #subtract the current row by the pivot row (scaled by a factor) to result in a zero\n",
    "            matrix[row] = matrix[row] - matrix[row, pivot] / matrix[pivot, pivot] * matrix[pivot]\n",
    "    return matrix"
   ]
  },
  {
   "cell_type": "code",
   "execution_count": 6,
   "metadata": {},
   "outputs": [
    {
     "name": "stdout",
     "output_type": "stream",
     "text": [
      "[[-3  0  1]\n",
      " [-2  1  3]\n",
      " [-2 -1  0]]\n"
     ]
    }
   ],
   "source": [
    "matrix = np.array([[-3, 0, 1], [-2, 1, 3], [-2, -1, 0]]) #sample matrix\n",
    "print(matrix)"
   ]
  },
  {
   "cell_type": "code",
   "execution_count": 7,
   "metadata": {},
   "outputs": [
    {
     "data": {
      "text/plain": [
       "array([[-3.        ,  0.        ,  1.        ],\n",
       "       [ 0.        ,  1.        ,  2.33333333],\n",
       "       [ 0.        ,  0.        ,  1.66666667]])"
      ]
     },
     "execution_count": 7,
     "metadata": {},
     "output_type": "execute_result"
    }
   ],
   "source": [
    "gaussianElimination(matrix)\n"
   ]
  },
  {
   "cell_type": "code",
   "execution_count": null,
   "metadata": {},
   "outputs": [],
   "source": []
  }
 ],
 "metadata": {
  "kernelspec": {
   "display_name": "Python 3",
   "language": "python",
   "name": "python3"
  },
  "language_info": {
   "codemirror_mode": {
    "name": "ipython",
    "version": 3
   },
   "file_extension": ".py",
   "mimetype": "text/x-python",
   "name": "python",
   "nbconvert_exporter": "python",
   "pygments_lexer": "ipython3",
   "version": "3.10.5"
  },
  "orig_nbformat": 4,
  "vscode": {
   "interpreter": {
    "hash": "4d914d97e3f4d299d3539faccc785d8503dce6a4cbd11144ed16eb88aec98655"
   }
  }
 },
 "nbformat": 4,
 "nbformat_minor": 2
}
