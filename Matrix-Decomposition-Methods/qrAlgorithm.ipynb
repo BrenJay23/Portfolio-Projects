{
 "cells": [
  {
   "cell_type": "code",
   "execution_count": 1,
   "metadata": {},
   "outputs": [],
   "source": [
    "import numpy as np\n",
    "np.set_printoptions(precision=3, suppress=True) # Round the results to 3 decimal place"
   ]
  },
  {
   "cell_type": "code",
   "execution_count": 2,
   "metadata": {},
   "outputs": [],
   "source": [
    "def householderHessenberg(matrix):\n",
    "    A = matrix.astype('float')\n",
    "    num_rows, num_columns = matrix.shape\n",
    "    I = np.identity(num_rows)\n",
    "    A_hut = A.copy() # initial hessenberg matrix\n",
    "    householder = []\n",
    "    for column in range(num_columns-2):\n",
    "        x = np.vstack((np.zeros((column+1,1)), A_hut[column+1:, column].reshape(-1,1))) # append zero above the target row\n",
    "        # change the operation depending on the sign\n",
    "        if np.sign(x[column+1]) == 0 or np.sign(x[column+1]) == 1:\n",
    "            x[column+1] += np.linalg.norm(x)\n",
    "        else:\n",
    "            x[column+1] -= np.linalg.norm(x)\n",
    "        u = x/np.linalg.norm(x) # normalize\n",
    "        H = I - 2*u@u.T # householder reflection\n",
    "        A_hut = H @ A_hut @ H\n",
    "        print(f'H{column+1}')\n",
    "        print(H)\n",
    "        householder.append(H)\n",
    "    return A_hut, householder\n",
    "    "
   ]
  },
  {
   "cell_type": "code",
   "execution_count": 3,
   "metadata": {},
   "outputs": [
    {
     "name": "stdout",
     "output_type": "stream",
     "text": [
      "Original Matrix\n",
      " [[0 4 4 7]\n",
      " [9 0 4 2]\n",
      " [0 4 4 3]\n",
      " [2 8 5 0]]\n"
     ]
    }
   ],
   "source": [
    "# matrix = np.array([[1, 0, 2, 3], [-1, 0, 5, 2], [2, -2, 0, 0], [2, -1, 2, 0]]) # sample matrix\n",
    "matrix = np.random.randint(0, 10, size=(4, 4))\n",
    "print('Original Matrix\\n', matrix)"
   ]
  },
  {
   "cell_type": "code",
   "execution_count": 4,
   "metadata": {},
   "outputs": [
    {
     "name": "stdout",
     "output_type": "stream",
     "text": [
      "H1\n",
      "[[ 1.     0.     0.     0.   ]\n",
      " [ 0.    -0.976  0.    -0.217]\n",
      " [ 0.     0.     1.     0.   ]\n",
      " [ 0.    -0.217  0.     0.976]]\n",
      "H2\n",
      "[[ 1.     0.     0.     0.   ]\n",
      " [ 0.     1.     0.     0.   ]\n",
      " [ 0.     0.    -0.518 -0.856]\n",
      " [ 0.     0.    -0.856  0.518]]\n"
     ]
    }
   ],
   "source": [
    "hess, householder = householderHessenberg(matrix)"
   ]
  },
  {
   "cell_type": "code",
   "execution_count": 5,
   "metadata": {},
   "outputs": [
    {
     "name": "stdout",
     "output_type": "stream",
     "text": [
      "Hessenberg Matrix\n",
      " [[ 0.    -5.423 -7.175 -0.334]\n",
      " [-9.22   2.118  3.891  3.477]\n",
      " [ 0.     8.8    2.212  5.095]\n",
      " [ 0.     0.     3.143 -0.33 ]]\n"
     ]
    }
   ],
   "source": [
    "print('Hessenberg Matrix\\n', hess)"
   ]
  },
  {
   "cell_type": "code",
   "execution_count": 6,
   "metadata": {},
   "outputs": [],
   "source": [
    "def rotation(a, b): # calculate the c and s values in the rotation matrix\n",
    "    r = np.sqrt(a**2 + b**2)\n",
    "    c = a/r\n",
    "    s = -b/r\n",
    "    return c, s"
   ]
  },
  {
   "cell_type": "code",
   "execution_count": 7,
   "metadata": {},
   "outputs": [],
   "source": [
    "def givensRotation(hess):\n",
    "    A = hess.copy()\n",
    "    shape = A.shape[0]\n",
    "    givens = []\n",
    "    Q = np.identity(shape)\n",
    "    for i in range(shape-1):\n",
    "        c, s = rotation(A[i, i], A[i+1, i])\n",
    "        G = np.identity(shape)\n",
    "        G[i:i+2, i:i+2] = np.array([[c, -s], [s, c]]) # include the rotation in the identity matrix\n",
    "        A = G @ A # rotate the current matrix to make the subdiagonal zero\n",
    "        givens.append(G) # rotation matrices\n",
    "    for rotate in reversed(givens): # calculate the Q matrix by multiplying the rotations in reversed order\n",
    "        Q = Q @ rotate\n",
    "    return Q.T, A # transpose Q is Rotation and (Rotation)(Hessian) = R"
   ]
  },
  {
   "cell_type": "code",
   "execution_count": 28,
   "metadata": {},
   "outputs": [],
   "source": [
    "def qrAlgorithm(hess, tolerance=1e-6, iteration=1000, sigma=0):\n",
    "    shape = hess.shape[0]\n",
    "    A_k = hess.copy()\n",
    "    for k in range(iteration):\n",
    "        # Computes the QR matrix from Hessenberg using Givens Rotation\n",
    "        Q, R = givensRotation(A_k - sigma*np.identity(shape)) # sigma is the initial eigenvalue guess\n",
    "        A_k = R @ Q + sigma*np.identity(shape)\n",
    "        if np.max(np.abs(np.diag(A_k, k=-1))) < tolerance: # program will terminate when the subdiagonal reached the tolerance\n",
    "            print('Tolerance reached')\n",
    "            break\n",
    "        if k == iteration-1: # program will terminate when max iteration is reached\n",
    "            print('Max iteration reached')\n",
    "    return A_k"
   ]
  },
  {
   "cell_type": "code",
   "execution_count": 29,
   "metadata": {},
   "outputs": [
    {
     "name": "stdout",
     "output_type": "stream",
     "text": [
      "Max iteration reached\n",
      "Schur Matrix\n",
      " [[13.777 -0.331 -0.54  -3.739]\n",
      " [ 0.    -4.795 -3.381 -1.062]\n",
      " [-0.     5.583 -5.849 -3.183]\n",
      " [-0.     0.     0.     0.866]]\n"
     ]
    }
   ],
   "source": [
    "tolerance = 1e-6\n",
    "A_k = qrAlgorithm(hess, tolerance)\n",
    "print('Schur Matrix\\n', A_k)"
   ]
  },
  {
   "attachments": {},
   "cell_type": "markdown",
   "metadata": {},
   "source": [
    "To get the eigenvalue of a 2 by 2 matrix:\n",
    "$$\n",
    "A_k = \n",
    "\\begin{bmatrix}\n",
    "a & b\\\\\n",
    "c & d\n",
    "\\end{bmatrix}\n",
    "$$\n",
    "$$\n",
    "A_k - \\lambda I = 0\n",
    "$$\n",
    "$$\n",
    "\\begin{bmatrix}\n",
    "a-\\lambda & b\\\\\n",
    "c & d-\\lambda\n",
    "\\end{bmatrix}\n",
    "= 0\n",
    "$$\n",
    "Getting the Determinant:\n",
    "$$\n",
    "(a-\\lambda)(d-\\lambda) - bc = 0\n",
    "$$\n",
    "$$\n",
    "\\lambda^2 + (-a-d) \\lambda + (ad-bc) = 0\n",
    "$$\n",
    "Using the quadratic formual:\n",
    "$$\n",
    "\\lambda = \\frac{-(-a-d) \\pm \\sqrt{(-a-d)^2+4(ad-bc)}}{2}\n",
    "$$"
   ]
  },
  {
   "cell_type": "code",
   "execution_count": 76,
   "metadata": {},
   "outputs": [],
   "source": [
    "def getEigenvalues(A_k, tolerance):\n",
    "    temp_eig = np.diag(A_k).astype('complex') # diagonal elements\n",
    "    sub_diag = np.diag(A_k, k=-1) > tolerance # get the subdiagonal with value higher than tolerance\n",
    "    for i, d in enumerate(sub_diag):\n",
    "        if d == True:\n",
    "            a = A_k[i, i]\n",
    "            b = A_k[i, i+1]\n",
    "            c = A_k[i+1, i]\n",
    "            d = A_k[i+1, i+1]\n",
    "            eig = (-(-a-d) + np.sqrt((-a-d)**2 - 4*(a*d-b*c), dtype='complex')) / 2\n",
    "            # l = (a-c)/2\n",
    "            # if l >= 0:\n",
    "            #     eig = c - b**2 / (l + np.sqrt(l**2 + b**2))\n",
    "            # else:\n",
    "            #     eig = c + b**2 / (l + np.sqrt(l**2 + b**2))\n",
    "            temp_eig[[i, i+1]] = eig, np.conjugate(eig) # replace with the eigenvalue conjugate pair\n",
    "    return temp_eig\n",
    "    "
   ]
  },
  {
   "cell_type": "code",
   "execution_count": 77,
   "metadata": {},
   "outputs": [
    {
     "name": "stdout",
     "output_type": "stream",
     "text": [
      "Calculated Eigenvalues\n",
      " [13.777+0.j    -5.322+4.313j -5.322-4.313j  0.866+0.j   ]\n",
      "Numpy Eigenvalues of the Original Matrix\n",
      " [13.777+0.j    -5.322+4.313j -5.322-4.313j  0.866+0.j   ]\n"
     ]
    }
   ],
   "source": [
    "print('Calculated Eigenvalues\\n', getEigenvalues(A_k, tolerance))\n",
    "print('Numpy Eigenvalues of the Original Matrix\\n', np.linalg.eig(matrix)[0])"
   ]
  },
  {
   "cell_type": "code",
   "execution_count": null,
   "metadata": {},
   "outputs": [],
   "source": []
  }
 ],
 "metadata": {
  "kernelspec": {
   "display_name": "Python 3",
   "language": "python",
   "name": "python3"
  },
  "language_info": {
   "codemirror_mode": {
    "name": "ipython",
    "version": 3
   },
   "file_extension": ".py",
   "mimetype": "text/x-python",
   "name": "python",
   "nbconvert_exporter": "python",
   "pygments_lexer": "ipython3",
   "version": "3.10.5"
  },
  "orig_nbformat": 4,
  "vscode": {
   "interpreter": {
    "hash": "4d914d97e3f4d299d3539faccc785d8503dce6a4cbd11144ed16eb88aec98655"
   }
  }
 },
 "nbformat": 4,
 "nbformat_minor": 2
}
