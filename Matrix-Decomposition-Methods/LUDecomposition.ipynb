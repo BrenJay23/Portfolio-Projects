{
 "cells": [
  {
   "cell_type": "code",
   "execution_count": 20,
   "metadata": {},
   "outputs": [],
   "source": [
    "import numpy as np"
   ]
  },
  {
   "cell_type": "code",
   "execution_count": 21,
   "metadata": {},
   "outputs": [
    {
     "name": "stdout",
     "output_type": "stream",
     "text": [
      "[[4 8 7 7]\n",
      " [2 1 6 4]\n",
      " [8 3 4 2]\n",
      " [2 6 8 1]]\n"
     ]
    }
   ],
   "source": [
    "# matrix = np.array([[-2, 1, 3, 7], [-3, 0, 1, 0], [-2, -1, 0, -2]]) #sample matrix\n",
    "# matrix = np.array([[-2, 1, 2], [0, -2, 2], [2, -3, 0], [6, -5, -4]])\n",
    "matrix = np.random.randint(0, 10, size=(4, 4))\n",
    "print(matrix)"
   ]
  },
  {
   "cell_type": "code",
   "execution_count": 22,
   "metadata": {},
   "outputs": [],
   "source": [
    "def decompositionLU(matrix):\n",
    "    U = matrix.astype('float')\n",
    "    num_rows = U.shape[0]\n",
    "    P = np.identity(num_rows)\n",
    "    L = np.identity(num_rows)\n",
    "    row_switch = 1 #tracks the row switch/ changes in determinant sign\n",
    "    for row in range(num_rows-1):\n",
    "        pivot_row = np.argmax(np.abs(U[row:, row])) # find the available row with highest numerical value\n",
    "        if pivot_row != 0: # if row changes\n",
    "            row_switch *= -1 # determinant of the inverse permutation matrix\n",
    "            pivot = pivot_row + row # keep track of the pivot from the current row\n",
    "            # swap the current rows to the pivot found\n",
    "            P[[row, pivot]] = P[[pivot, row]]\n",
    "            L[[row, pivot], :row] = L[[pivot, row], :row]\n",
    "            U[[row, pivot]] = U[[pivot, row]]\n",
    "        # subtract the current row by the pivot row (scaled by a factor) to result in a zero\n",
    "        factor = U[row+1:num_rows, row]/U[row, row]\n",
    "        U[row+1:num_rows] -= factor.reshape(-1,1) * U[row]\n",
    "        L[row+1:num_rows, row] = factor\n",
    "    return P, L, U, row_switch"
   ]
  },
  {
   "cell_type": "code",
   "execution_count": 23,
   "metadata": {},
   "outputs": [
    {
     "name": "stdout",
     "output_type": "stream",
     "text": [
      "Permutation\n",
      " [[0. 0. 1. 0.]\n",
      " [1. 0. 0. 0.]\n",
      " [0. 1. 0. 0.]\n",
      " [0. 0. 0. 1.]] \n",
      "Lower\n",
      " [[1.    0.    0.    0.   ]\n",
      " [0.5   1.    0.    0.   ]\n",
      " [0.25  0.038 1.    0.   ]\n",
      " [0.25  0.808 0.616 1.   ]] \n",
      "Upper\n",
      " [[ 8.     3.     4.     2.   ]\n",
      " [ 0.     6.5    5.     6.   ]\n",
      " [ 0.     0.     4.808  3.269]\n",
      " [ 0.     0.    -0.    -6.36 ]]\n"
     ]
    }
   ],
   "source": [
    "P, L, U, row_switch = decompositionLU(matrix)\n",
    "print('Permutation\\n', P,'\\nLower\\n', np.around(L, 3), '\\nUpper\\n', np.around(U, 3))  # round float to nearest 3 decimal place"
   ]
  },
  {
   "attachments": {},
   "cell_type": "markdown",
   "metadata": {},
   "source": [
    "Computing for the determinant: $|A| = |P^{-1}||L||U|$"
   ]
  },
  {
   "cell_type": "code",
   "execution_count": 24,
   "metadata": {},
   "outputs": [
    {
     "name": "stdout",
     "output_type": "stream",
     "text": [
      "The computed determinant is:  -1590.0000000000002\n",
      "The actual determinant is:  -1589.9999999999989\n"
     ]
    }
   ],
   "source": [
    "if matrix.shape[0] == matrix.shape[1]: # if square matrix\n",
    "    # getting the determinant from the product of the diagonals of the resulting matrix from gaussian and the sign change during row switch\n",
    "    determinant = row_switch*np.product(np.diagonal(U)) # note that the determinant of L matrix has a value of 1\n",
    "    print('The computed determinant is: ', determinant)\n",
    "    print('The actual determinant is: ', np.linalg.det(matrix))\n",
    "else:\n",
    "    print('The Matrix does not have a determinant')"
   ]
  },
  {
   "attachments": {},
   "cell_type": "markdown",
   "metadata": {},
   "source": [
    "The original matrix can be obtained by doing a matrix multiplication of the Permutation inverse, Lower and Upper"
   ]
  },
  {
   "cell_type": "code",
   "execution_count": 25,
   "metadata": {},
   "outputs": [
    {
     "name": "stdout",
     "output_type": "stream",
     "text": [
      "Original Matrix\n",
      " [[4 8 7 7]\n",
      " [2 1 6 4]\n",
      " [8 3 4 2]\n",
      " [2 6 8 1]] \n",
      "Resulting Matrix\n",
      " [[4. 8. 7. 7.]\n",
      " [2. 1. 6. 4.]\n",
      " [8. 3. 4. 2.]\n",
      " [2. 6. 8. 1.]]\n"
     ]
    }
   ],
   "source": [
    "resultFloat = np.linalg.inv(P) @ L @ U\n",
    "resultMatrix = np.around(resultFloat, 3) # round float to nearest 3 decimal place\n",
    "print('Original Matrix\\n', matrix, '\\nResulting Matrix\\n', resultMatrix)"
   ]
  },
  {
   "cell_type": "code",
   "execution_count": null,
   "metadata": {},
   "outputs": [],
   "source": []
  }
 ],
 "metadata": {
  "kernelspec": {
   "display_name": "Python 3",
   "language": "python",
   "name": "python3"
  },
  "language_info": {
   "codemirror_mode": {
    "name": "ipython",
    "version": 3
   },
   "file_extension": ".py",
   "mimetype": "text/x-python",
   "name": "python",
   "nbconvert_exporter": "python",
   "pygments_lexer": "ipython3",
   "version": "3.10.5"
  },
  "orig_nbformat": 4,
  "vscode": {
   "interpreter": {
    "hash": "4d914d97e3f4d299d3539faccc785d8503dce6a4cbd11144ed16eb88aec98655"
   }
  }
 },
 "nbformat": 4,
 "nbformat_minor": 2
}
