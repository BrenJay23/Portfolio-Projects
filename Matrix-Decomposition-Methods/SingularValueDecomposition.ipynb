{
 "cells": [
  {
   "cell_type": "code",
   "execution_count": 1,
   "metadata": {},
   "outputs": [],
   "source": [
    "import numpy as np\n",
    "np.set_printoptions(precision=3, suppress=True) # Round the results to 3 decimal place"
   ]
  },
  {
   "cell_type": "code",
   "execution_count": 2,
   "metadata": {},
   "outputs": [],
   "source": [
    "def householderReflection(x_hut, num, num_rc):\n",
    "    I = np.identity(num_rc)\n",
    "    x = np.vstack((np.zeros((num,1)), x_hut.reshape(-1,1))) # append zero above the target\n",
    "    # change the operation depending on the sign\n",
    "    if np.sign(x[num]) == 0 or np.sign(x[num]) == 1:\n",
    "        x[num] += np.linalg.norm(x)\n",
    "    else:\n",
    "        x[num] -= np.linalg.norm(x)\n",
    "    u = x/np.linalg.norm(x) # normalize\n",
    "    H = I - 2*np.outer(u, u) # householder reflection\n",
    "    return H"
   ]
  },
  {
   "cell_type": "code",
   "execution_count": 3,
   "metadata": {},
   "outputs": [],
   "source": [
    "def golubKahanBidiagonalization(matrix):\n",
    "    A = matrix.astype('float')\n",
    "    num_rows, num_columns = matrix.shape\n",
    "    U = np.identity(num_rows)\n",
    "    V_T = np.identity(num_columns)\n",
    "    B = A.copy() # initial bidiagonal matrix\n",
    "    row = 0\n",
    "    column = 0\n",
    "    while row<num_rows-1 or column<num_columns-2:\n",
    "        if row<num_rows-1:\n",
    "            U_hut = householderReflection(B[row:, row], row, num_rows)\n",
    "            B = U_hut @ B\n",
    "            row+=1\n",
    "            U = U @ U_hut\n",
    "        if column<num_columns-2:\n",
    "            V_hut = householderReflection(B[column, column+1:], column+1, num_columns)\n",
    "            B = B @ V_hut\n",
    "            column+=1\n",
    "            V_T = V_hut @ V_T\n",
    "    return U, B, V_T"
   ]
  },
  {
   "cell_type": "code",
   "execution_count": 4,
   "metadata": {},
   "outputs": [
    {
     "name": "stdout",
     "output_type": "stream",
     "text": [
      "Original Matrix\n",
      " [[4 7 9 6 9]\n",
      " [3 9 3 3 8]\n",
      " [2 4 5 9 3]\n",
      " [1 8 8 4 6]]\n"
     ]
    }
   ],
   "source": [
    "# matrix = np.array([[1, 0, 2, 3], [-1, 0, 5, 2], [2, -2, 0, 0], [2, -1, 2, 0]]) # sample matrix\n",
    "matrix = np.random.randint(0, 10, size=(4, 5))\n",
    "print('Original Matrix\\n', matrix)"
   ]
  },
  {
   "cell_type": "code",
   "execution_count": 5,
   "metadata": {},
   "outputs": [
    {
     "name": "stdout",
     "output_type": "stream",
     "text": [
      "U Matrix\n",
      " [[-0.73  -0.212  0.528  0.378]\n",
      " [-0.548 -0.128 -0.827  0.024]\n",
      " [-0.365  0.135  0.194 -0.9  ]\n",
      " [-0.183  0.959 -0.021  0.214]]\n",
      "Bidiagonal Matrix\n",
      " [[-5.477 23.958  0.    -0.     0.   ]\n",
      " [ 0.    -9.134 -2.562 -0.     0.   ]\n",
      " [-0.    -0.    -1.808 -4.85   0.   ]\n",
      " [-0.    -0.     0.     3.207  4.467]]\n",
      "V_T Matrix\n",
      " [[ 1.     0.     0.     0.     0.   ]\n",
      " [ 0.    -0.541 -0.48  -0.419 -0.549]\n",
      " [ 0.    -0.251 -0.655  0.167  0.693]\n",
      " [ 0.     0.739 -0.39  -0.548  0.031]\n",
      " [ 0.    -0.312  0.434 -0.705  0.466]]\n"
     ]
    }
   ],
   "source": [
    "U, B, V_T = golubKahanBidiagonalization(matrix)\n",
    "print('U Matrix\\n', U)\n",
    "print('Bidiagonal Matrix\\n', B)\n",
    "print('V_T Matrix\\n', V_T)"
   ]
  },
  {
   "cell_type": "code",
   "execution_count": 6,
   "metadata": {},
   "outputs": [
    {
     "name": "stdout",
     "output_type": "stream",
     "text": [
      "M Matrix\n",
      " [[ 0.     0.     0.     0.     0.    -5.477  0.    -0.    -0.   ]\n",
      " [ 0.     0.     0.     0.     0.    23.958 -9.134 -0.    -0.   ]\n",
      " [ 0.     0.     0.     0.     0.     0.    -2.562 -1.808  0.   ]\n",
      " [ 0.     0.     0.     0.     0.    -0.    -0.    -4.85   3.207]\n",
      " [ 0.     0.     0.     0.     0.     0.     0.     0.     4.467]\n",
      " [-5.477 23.958  0.    -0.     0.     0.     0.     0.     0.   ]\n",
      " [ 0.    -9.134 -2.562 -0.     0.     0.     0.     0.     0.   ]\n",
      " [-0.    -0.    -1.808 -4.85   0.     0.     0.     0.     0.   ]\n",
      " [-0.    -0.     0.     3.207  4.467  0.     0.     0.     0.   ]]\n"
     ]
    }
   ],
   "source": [
    "r, c = B.shape\n",
    "M = np.vstack([np.hstack([np.zeros((c, c)), B.T]), np.hstack([B, np.zeros((r, r))])])\n",
    "print('M Matrix\\n', M)"
   ]
  },
  {
   "cell_type": "code",
   "execution_count": 7,
   "metadata": {},
   "outputs": [
    {
     "name": "stdout",
     "output_type": "stream",
     "text": [
      "Permuation Matrix\n",
      " [[ 1.  0.  0.  0.  0.  0.  0.  0.  0.]\n",
      " [ 0. -0.  0.  0.  0.  1. -0.  0.  0.]\n",
      " [ 0. -1. -0.  0. -0.  0. -0. -0. -0.]\n",
      " [ 0.  0. -0.  0.  0. -0. -1. -0. -0.]\n",
      " [ 0. -0.  1.  0. -0.  0. -0. -0.  0.]\n",
      " [ 0.  0. -0.  0.  0.  0.  0. -1.  0.]\n",
      " [ 0.  0. -0.  1.  0. -0. -0.  0.  0.]\n",
      " [ 0.  0.  0.  0. -0.  0.  0. -0. -1.]\n",
      " [ 0.  0. -0.  0. -1. -0. -0. -0.  0.]]\n",
      "Symmetric Tridiagonal Matrix\n",
      " [[  0.     -5.477  -0.      0.     -0.      0.      0.      0.      0.   ]\n",
      " [ -5.477  -0.    -23.958   0.     -0.      0.      0.      0.      0.   ]\n",
      " [ -0.    -23.958  -0.     -9.134  -0.     -0.     -0.     -0.     -0.   ]\n",
      " [  0.      0.     -9.134   0.      2.562  -0.     -0.      0.      0.   ]\n",
      " [ -0.     -0.     -0.      2.562   0.      1.808  -0.      0.     -0.   ]\n",
      " [  0.      0.     -0.     -0.      1.808   0.      4.85   -0.     -0.   ]\n",
      " [  0.      0.     -0.      0.     -0.      4.85   -0.     -3.207   0.   ]\n",
      " [  0.     -0.     -0.      0.     -0.     -0.     -3.207  -0.      4.467]\n",
      " [  0.      0.     -0.      0.     -0.     -0.      0.      4.467  -0.   ]]\n"
     ]
    }
   ],
   "source": [
    "# use householder reflections to get the permutation matrix and the symmetric tridiagonal matrix\n",
    "n, m = M.shape\n",
    "P = np.identity(n)\n",
    "T = M.copy()\n",
    "for j in range(n - 2):\n",
    "    x = T[j + 1:, j]\n",
    "    H = householderReflection(x, j+1, n)\n",
    "    T = H @ T @ H\n",
    "    P = H @ P\n",
    "print('Permuation Matrix\\n', P)\n",
    "print('Symmetric Tridiagonal Matrix\\n', T)\n"
   ]
  },
  {
   "cell_type": "code",
   "execution_count": 8,
   "metadata": {},
   "outputs": [],
   "source": [
    "def rotation(a, b): # calculate the c and s values in the rotation matrix\n",
    "    r = np.sqrt(a**2 + b**2)\n",
    "    c = a/r\n",
    "    s = -b/r\n",
    "    return c, s"
   ]
  },
  {
   "cell_type": "code",
   "execution_count": 9,
   "metadata": {},
   "outputs": [],
   "source": [
    "def givensRotation(T):\n",
    "    A = T.copy()\n",
    "    shape = A.shape[0]\n",
    "    Q = np.identity(shape)\n",
    "    for i in range(shape-1):\n",
    "        c, s = rotation(A[i, i], A[i+1, i])\n",
    "        G = np.identity(shape)\n",
    "        G[i:i+2, i:i+2] = np.array([[c, -s], [s, c]]) # include the rotation in the identity matrix\n",
    "        A = G @ A # rotate the current matrix to make the subdiagonal zero\n",
    "        Q = G @ Q # rotation matrices\n",
    "    return Q.T, A # transpose Q is Rotation and (Rotation)(Hessian) = R"
   ]
  },
  {
   "cell_type": "code",
   "execution_count": 10,
   "metadata": {},
   "outputs": [],
   "source": [
    "def qrAlgorithm(T, tolerance=1e-6, iteration=100, sigma=0):\n",
    "    shape = T.shape[0]\n",
    "    A_k = T.copy()\n",
    "    I = np.identity(shape)\n",
    "    for k in range(iteration):\n",
    "        # Computes the QR matrix from Hessenberg using Givens Rotation\n",
    "        Q, R = givensRotation(A_k - sigma*I) # sigma is the initial eigenvalue guess\n",
    "        A_k = R @ Q + sigma*I\n",
    "        if np.max(np.abs(np.diag(A_k, k=-1))) < tolerance: # program will terminate when the subdiagonal reached the tolerance\n",
    "            print('Tolerance reached')\n",
    "            break\n",
    "        if k == iteration-1: # program will terminate when max iteration is reached\n",
    "            print('Max iteration reached')\n",
    "    return A_k"
   ]
  },
  {
   "cell_type": "code",
   "execution_count": 11,
   "metadata": {},
   "outputs": [
    {
     "name": "stdout",
     "output_type": "stream",
     "text": [
      "Max iteration reached\n",
      "Schur Matrix\n",
      " [[-26.163  -0.      0.      0.      0.      0.      0.      0.     -0.   ]\n",
      " [ -0.     26.163   0.     -0.     -0.     -0.     -0.     -0.      0.   ]\n",
      " [  0.     -0.     -6.664  -0.      0.      0.     -0.     -0.     -0.   ]\n",
      " [ -0.     -0.     -0.     -3.84    0.      0.     -0.      0.      0.   ]\n",
      " [ -0.     -0.     -0.      0.     -2.707  -0.      0.     -0.     -0.   ]\n",
      " [ -0.      0.     -0.      0.      0.     -0.     -0.      0.      0.   ]\n",
      " [  0.     -0.      0.      0.     -0.      0.      2.707  -0.     -0.   ]\n",
      " [  0.     -0.     -0.     -0.     -0.     -0.     -0.      6.664   0.   ]\n",
      " [ -0.      0.     -0.     -0.     -0.      0.      0.      0.      3.84 ]]\n"
     ]
    }
   ],
   "source": [
    "tolerance = 1e-6\n",
    "A_k = qrAlgorithm(T, tolerance, sigma=5)\n",
    "print('Schur Matrix\\n', A_k)"
   ]
  },
  {
   "cell_type": "code",
   "execution_count": 12,
   "metadata": {},
   "outputs": [
    {
     "name": "stdout",
     "output_type": "stream",
     "text": [
      "Calculated Eigenvalues\n",
      " [-26.163  26.163  -6.664  -3.84   -2.707  -0.      2.707   6.664   3.84 ]\n",
      "Numpy Eigenvalues of the M Matrix\n",
      " [ 26.163 -26.163   6.664   3.84    2.707   0.     -6.664  -2.707  -3.84 ]\n",
      "Calculates Singular Values\n",
      " [26.163  6.664  3.84   2.707]\n",
      "Numpy Singular Values\n",
      " [26.163  6.664  3.84   2.707]\n"
     ]
    }
   ],
   "source": [
    "e_value = np.diag(A_k)\n",
    "print('Calculated Eigenvalues\\n', e_value)\n",
    "print('Numpy Eigenvalues of the M Matrix\\n', np.linalg.eig(T)[0])\n",
    "# get the positive eigenvalues whose absolute value is greater than tolerance then sort it in desc order\n",
    "s_value = np.flip(np.sort(e_value[np.all([e_value>=0, np.abs(e_value)>tolerance], axis=0)]))\n",
    "print('Calculates Singular Values\\n', s_value)\n",
    "print('Numpy Singular Values\\n', np.linalg.svd(matrix)[1])"
   ]
  },
  {
   "cell_type": "code",
   "execution_count": null,
   "metadata": {},
   "outputs": [],
   "source": []
  }
 ],
 "metadata": {
  "kernelspec": {
   "display_name": "Python 3",
   "language": "python",
   "name": "python3"
  },
  "language_info": {
   "codemirror_mode": {
    "name": "ipython",
    "version": 3
   },
   "file_extension": ".py",
   "mimetype": "text/x-python",
   "name": "python",
   "nbconvert_exporter": "python",
   "pygments_lexer": "ipython3",
   "version": "3.10.5"
  },
  "orig_nbformat": 4,
  "vscode": {
   "interpreter": {
    "hash": "4d914d97e3f4d299d3539faccc785d8503dce6a4cbd11144ed16eb88aec98655"
   }
  }
 },
 "nbformat": 4,
 "nbformat_minor": 2
}
