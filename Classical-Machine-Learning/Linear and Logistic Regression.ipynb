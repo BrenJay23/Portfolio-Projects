{
 "cells": [
  {
   "cell_type": "markdown",
   "metadata": {},
   "source": [
    "# AI 221: Machine Exercise 1"
   ]
  },
  {
   "cell_type": "markdown",
   "metadata": {},
   "source": [
    "### Problem 1: Energy Efficiency in Buildings"
   ]
  },
  {
   "cell_type": "code",
   "execution_count": 1,
   "metadata": {},
   "outputs": [],
   "source": [
    "import pandas as pd\n",
    "import numpy as np\n",
    "from sklearn.model_selection import train_test_split\n",
    "from sklearn.pipeline import make_pipeline\n",
    "from sklearn.preprocessing import StandardScaler, OrdinalEncoder\n",
    "from sklearn.linear_model import Ridge, LogisticRegression\n",
    "import matplotlib.pyplot as plt\n",
    "from sklearn.metrics import confusion_matrix, ConfusionMatrixDisplay,\\\n",
    "    f1_score, precision_score, recall_score, roc_curve, roc_auc_score"
   ]
  },
  {
   "cell_type": "markdown",
   "metadata": {},
   "source": [
    "The dataset contains 768 samples of simulated buildings with 8 attributes (X1 to X8) and two targets (Y1 and Y2)"
   ]
  },
  {
   "attachments": {
    "image.png": {
     "image/png": "[encoded data removed]"
    }
   },
   "cell_type": "markdown",
   "metadata": {},
   "source": [
    "![image.png](attachment:image.png)"
   ]
  },
  {
   "cell_type": "code",
   "execution_count": 2,
   "metadata": {},
   "outputs": [
    {
     "data": {
      "text/html": [
       "<div>\n",
       "<style scoped>\n",
       "    .dataframe tbody tr th:only-of-type {\n",
       "        vertical-align: middle;\n",
       "    }\n",
       "\n",
       "    .dataframe tbody tr th {\n",
       "        vertical-align: top;\n",
       "    }\n",
       "\n",
       "    .dataframe thead th {\n",
       "        text-align: right;\n",
       "    }\n",
       "</style>\n",
       "<table border=\"1\" class=\"dataframe\">\n",
       "  <thead>\n",
       "    <tr style=\"text-align: right;\">\n",
       "      <th></th>\n",
       "      <th>X1</th>\n",
       "      <th>X2</th>\n",
       "      <th>X3</th>\n",
       "      <th>X4</th>\n",
       "      <th>X5</th>\n",
       "      <th>X6</th>\n",
       "      <th>X7</th>\n",
       "      <th>X8</th>\n",
       "      <th>Y1</th>\n",
       "      <th>Y2</th>\n",
       "    </tr>\n",
       "  </thead>\n",
       "  <tbody>\n",
       "    <tr>\n",
       "      <th>0</th>\n",
       "      <td>0.98</td>\n",
       "      <td>514.5</td>\n",
       "      <td>294.0</td>\n",
       "      <td>110.25</td>\n",
       "      <td>7.0</td>\n",
       "      <td>2</td>\n",
       "      <td>0.0</td>\n",
       "      <td>0</td>\n",
       "      <td>15.55</td>\n",
       "      <td>21.33</td>\n",
       "    </tr>\n",
       "    <tr>\n",
       "      <th>1</th>\n",
       "      <td>0.98</td>\n",
       "      <td>514.5</td>\n",
       "      <td>294.0</td>\n",
       "      <td>110.25</td>\n",
       "      <td>7.0</td>\n",
       "      <td>3</td>\n",
       "      <td>0.0</td>\n",
       "      <td>0</td>\n",
       "      <td>15.55</td>\n",
       "      <td>21.33</td>\n",
       "    </tr>\n",
       "    <tr>\n",
       "      <th>2</th>\n",
       "      <td>0.98</td>\n",
       "      <td>514.5</td>\n",
       "      <td>294.0</td>\n",
       "      <td>110.25</td>\n",
       "      <td>7.0</td>\n",
       "      <td>4</td>\n",
       "      <td>0.0</td>\n",
       "      <td>0</td>\n",
       "      <td>15.55</td>\n",
       "      <td>21.33</td>\n",
       "    </tr>\n",
       "    <tr>\n",
       "      <th>3</th>\n",
       "      <td>0.98</td>\n",
       "      <td>514.5</td>\n",
       "      <td>294.0</td>\n",
       "      <td>110.25</td>\n",
       "      <td>7.0</td>\n",
       "      <td>5</td>\n",
       "      <td>0.0</td>\n",
       "      <td>0</td>\n",
       "      <td>15.55</td>\n",
       "      <td>21.33</td>\n",
       "    </tr>\n",
       "    <tr>\n",
       "      <th>4</th>\n",
       "      <td>0.90</td>\n",
       "      <td>563.5</td>\n",
       "      <td>318.5</td>\n",
       "      <td>122.50</td>\n",
       "      <td>7.0</td>\n",
       "      <td>2</td>\n",
       "      <td>0.0</td>\n",
       "      <td>0</td>\n",
       "      <td>20.84</td>\n",
       "      <td>28.28</td>\n",
       "    </tr>\n",
       "  </tbody>\n",
       "</table>\n",
       "</div>"
      ],
      "text/plain": [
       "     X1     X2     X3      X4   X5  X6   X7  X8     Y1     Y2\n",
       "0  0.98  514.5  294.0  110.25  7.0   2  0.0   0  15.55  21.33\n",
       "1  0.98  514.5  294.0  110.25  7.0   3  0.0   0  15.55  21.33\n",
       "2  0.98  514.5  294.0  110.25  7.0   4  0.0   0  15.55  21.33\n",
       "3  0.98  514.5  294.0  110.25  7.0   5  0.0   0  15.55  21.33\n",
       "4  0.90  563.5  318.5  122.50  7.0   2  0.0   0  20.84  28.28"
      ]
     },
     "execution_count": 2,
     "metadata": {},
     "output_type": "execute_result"
    }
   ],
   "source": [
    "df = pd.read_excel(\"energy+efficiency/ENB2012_data.xlsx\")\n",
    "df.head()"
   ]
  },
  {
   "cell_type": "code",
   "execution_count": 3,
   "metadata": {},
   "outputs": [
    {
     "data": {
      "text/plain": [
       "(768, 10)"
      ]
     },
     "execution_count": 3,
     "metadata": {},
     "output_type": "execute_result"
    }
   ],
   "source": [
    "df.shape"
   ]
  },
  {
   "cell_type": "markdown",
   "metadata": {},
   "source": [
    "Predict the heating load only"
   ]
  },
  {
   "cell_type": "code",
   "execution_count": 4,
   "metadata": {},
   "outputs": [
    {
     "name": "stdout",
     "output_type": "stream",
     "text": [
      "Index(['X1', 'X2', 'X3', 'X4', 'X5', 'X6', 'X7', 'X8'], dtype='object')\n",
      "Index(['Y1'], dtype='object')\n"
     ]
    }
   ],
   "source": [
    "X = df.iloc[:, :8]\n",
    "y = df.iloc[:, 8].to_frame()\n",
    "print(X.columns)\n",
    "print(y.columns)\n",
    "X, y = X.to_numpy(), y.to_numpy()"
   ]
  },
  {
   "cell_type": "markdown",
   "metadata": {},
   "source": [
    "### a."
   ]
  },
  {
   "cell_type": "markdown",
   "metadata": {},
   "source": [
    "**Split the samples into 60% Training, 20% Validation, and 20% Testing data at random**"
   ]
  },
  {
   "cell_type": "code",
   "execution_count": 5,
   "metadata": {},
   "outputs": [
    {
     "name": "stdout",
     "output_type": "stream",
     "text": [
      "(460, 8) (460, 1)\n",
      "(154, 8) (154, 1)\n",
      "(154, 8) (154, 1)\n"
     ]
    }
   ],
   "source": [
    "X_train, X_temp, y_train, y_temp = train_test_split(X, y, test_size=0.4, random_state=0)\n",
    "X_val, X_test, y_val, y_test = train_test_split(X_temp, y_temp, test_size=0.5, random_state=0)\n",
    "print(X_train.shape, y_train.shape)\n",
    "print(X_val.shape, y_val.shape)\n",
    "print(X_test.shape, y_test.shape)"
   ]
  },
  {
   "cell_type": "markdown",
   "metadata": {},
   "source": [
    "**Build a pipeline with Standard scaler then linear ridge regression, set 10 different choices of regularization, and find the best model with highest accuracy on validation**"
   ]
  },
  {
   "cell_type": "code",
   "execution_count": 6,
   "metadata": {},
   "outputs": [],
   "source": [
    "reg_params = np.array([0, 0.001, 0.01, 0.1, 0.25, 0.5, 1, 2.5, 5, 10])"
   ]
  },
  {
   "cell_type": "code",
   "execution_count": 7,
   "metadata": {},
   "outputs": [],
   "source": [
    "def model_train_val(X_train, X_val, y_train, y_val, reg_params):\n",
    "    max_R2 = 0\n",
    "    best_alpha = 0\n",
    "    best_model = 0\n",
    "    best_train_R2 = 0\n",
    "    best_val_R2 = 0\n",
    "    for alpha in reg_params:\n",
    "        model = make_pipeline(StandardScaler(),\n",
    "                            Ridge(alpha=alpha)).fit(X_train, y_train)\n",
    "        train_R2 = model.score(X_train, y_train)\n",
    "        val_R2 = model.score(X_val, y_val)\n",
    "        print(f\"Alpha: {alpha}\")\n",
    "        print(f\"\\tTraining accuracy (R2): {train_R2}\")\n",
    "        print(f\"\\tValidation accuracy (R2): {val_R2}\")\n",
    "        if val_R2 > max_R2:\n",
    "            max_R2 = val_R2\n",
    "            best_alpha = alpha\n",
    "            best_model = model\n",
    "            best_train_R2 = train_R2\n",
    "            best_val_R2 = val_R2\n",
    "    return best_alpha, best_model, best_train_R2, best_val_R2"
   ]
  },
  {
   "cell_type": "code",
   "execution_count": 8,
   "metadata": {},
   "outputs": [
    {
     "name": "stdout",
     "output_type": "stream",
     "text": [
      "Alpha: 0.0\n",
      "\tTraining accuracy (R2): 0.9241269637387363\n",
      "\tValidation accuracy (R2): 0.9091426324395059\n",
      "Alpha: 0.001\n",
      "\tTraining accuracy (R2): 0.9241944811129945\n",
      "\tValidation accuracy (R2): 0.9089148038898616\n",
      "Alpha: 0.01\n",
      "\tTraining accuracy (R2): 0.9241944515825671\n",
      "\tValidation accuracy (R2): 0.9089101142701239\n",
      "Alpha: 0.1\n",
      "\tTraining accuracy (R2): 0.9241916941741101\n",
      "\tValidation accuracy (R2): 0.9088605007809303\n",
      "Alpha: 0.25\n",
      "\tTraining accuracy (R2): 0.924178806231086\n",
      "\tValidation accuracy (R2): 0.9087686494331253\n",
      "Alpha: 0.5\n",
      "\tTraining accuracy (R2): 0.9241409221220961\n",
      "\tValidation accuracy (R2): 0.9085974458680424\n",
      "Alpha: 1.0\n",
      "\tTraining accuracy (R2): 0.924029488218916\n",
      "\tValidation accuracy (R2): 0.9082161700342335\n",
      "Alpha: 2.5\n",
      "\tTraining accuracy (R2): 0.923583067548093\n",
      "\tValidation accuracy (R2): 0.9069642662107661\n",
      "Alpha: 5.0\n",
      "\tTraining accuracy (R2): 0.9226900037668789\n",
      "\tValidation accuracy (R2): 0.9048023326945012\n",
      "Alpha: 10.0\n",
      "\tTraining accuracy (R2): 0.9206660403364142\n",
      "\tValidation accuracy (R2): 0.9005725965379212\n"
     ]
    }
   ],
   "source": [
    "best_alpha, best_model, best_train_R2, best_val_R2 = model_train_val(X_train, X_val, y_train, y_val, reg_params)"
   ]
  },
  {
   "cell_type": "markdown",
   "metadata": {},
   "source": [
    "**Evaluate the model using the test data and show the best model’s coefficients, intercept, and its training, validation, and test accuracy**"
   ]
  },
  {
   "cell_type": "code",
   "execution_count": 9,
   "metadata": {},
   "outputs": [],
   "source": [
    "def eval_model(best_alpha, best_model, best_train_R2, best_val_R2, X_test, y_test):\n",
    "    print(f\"Best alpha: {best_alpha}\")\n",
    "    print(f\"Coefficients: {best_model[1].coef_}\")\n",
    "    print(f\"Intercept: {best_model[1].intercept_}\")\n",
    "    print(f\"Training accuracy (R2) of Best Model: {best_train_R2}\")\n",
    "    print(f\"Validation accuracy (R2) of Best Model: {best_val_R2}\")\n",
    "\n",
    "    test_R2 = best_model.score(X_test, y_test)\n",
    "    print(f\"Testing accuracy (R2) of Best Model: {test_R2}\")\n",
    "    return"
   ]
  },
  {
   "cell_type": "code",
   "execution_count": 10,
   "metadata": {},
   "outputs": [
    {
     "name": "stdout",
     "output_type": "stream",
     "text": [
      "Best alpha: 0.0\n",
      "Coefficients: [[-5.93614634e+00  4.90782857e+13 -2.46453121e+13 -5.03487675e+13\n",
      "   7.52707647e+00  2.57256184e-03  2.52811183e+00  2.89643957e-01]]\n",
      "Intercept: [22.36132169]\n",
      "Training accuracy (R2) of Best Model: 0.9241269637387363\n",
      "Validation accuracy (R2) of Best Model: 0.9091426324395059\n",
      "Testing accuracy (R2) of Best Model: 0.8951386567478389\n"
     ]
    }
   ],
   "source": [
    "eval_model(best_alpha, best_model, best_train_R2, best_val_R2, X_test, y_test)"
   ]
  },
  {
   "cell_type": "markdown",
   "metadata": {},
   "source": [
    "### b."
   ]
  },
  {
   "cell_type": "markdown",
   "metadata": {},
   "source": [
    "**Top 5 features among X1 to X8**"
   ]
  },
  {
   "cell_type": "code",
   "execution_count": 11,
   "metadata": {},
   "outputs": [
    {
     "name": "stdout",
     "output_type": "stream",
     "text": [
      "['X4', 'X2', 'X3', 'X5', 'X1']\n"
     ]
    }
   ],
   "source": [
    "sorted_indices = np.argsort(np.abs(best_model[1].coef_[0]))[::-1]\n",
    "top5_coef = sorted_indices[:5]\n",
    "print([\"X\" + str(x) for x in top5_coef + 1])"
   ]
  },
  {
   "cell_type": "markdown",
   "metadata": {},
   "source": [
    "**Using only the top 5 features**"
   ]
  },
  {
   "cell_type": "code",
   "execution_count": 12,
   "metadata": {},
   "outputs": [
    {
     "name": "stdout",
     "output_type": "stream",
     "text": [
      "(460, 5) (460, 1)\n",
      "(154, 5) (154, 1)\n",
      "(154, 5) (154, 1)\n"
     ]
    }
   ],
   "source": [
    "X_train_5, X_val_5, X_test_5 = X_train[:, top5_coef], X_val[:, top5_coef], X_test[:, top5_coef]\n",
    "print(X_train_5.shape, y_train.shape)\n",
    "print(X_val_5.shape, y_val.shape)\n",
    "print(X_test_5.shape, y_test.shape)"
   ]
  },
  {
   "cell_type": "code",
   "execution_count": 13,
   "metadata": {},
   "outputs": [
    {
     "name": "stdout",
     "output_type": "stream",
     "text": [
      "Alpha: 0.0\n",
      "\tTraining accuracy (R2): 0.8578233919099905\n",
      "\tValidation accuracy (R2): 0.8238859835810943\n",
      "Alpha: 0.001\n",
      "\tTraining accuracy (R2): 0.8583073565021835\n",
      "\tValidation accuracy (R2): 0.8236637115496039\n",
      "Alpha: 0.01\n",
      "\tTraining accuracy (R2): 0.85830733365417\n",
      "\tValidation accuracy (R2): 0.8236565658164747\n",
      "Alpha: 0.1\n",
      "\tTraining accuracy (R2): 0.8583051903639857\n",
      "\tValidation accuracy (R2): 0.823585404955056\n",
      "Alpha: 0.25\n",
      "\tTraining accuracy (R2): 0.858295081193609\n",
      "\tValidation accuracy (R2): 0.8234682638256955\n",
      "Alpha: 0.5\n",
      "\tTraining accuracy (R2): 0.8582648961153354\n",
      "\tValidation accuracy (R2): 0.823277759410247\n",
      "Alpha: 1.0\n",
      "\tTraining accuracy (R2): 0.8581735019856105\n",
      "\tValidation accuracy (R2): 0.8229139864532089\n",
      "Alpha: 2.5\n",
      "\tTraining accuracy (R2): 0.8577831467087642\n",
      "\tValidation accuracy (R2): 0.8219060257792312\n",
      "Alpha: 5.0\n",
      "\tTraining accuracy (R2): 0.8569451650463548\n",
      "\tValidation accuracy (R2): 0.8202963063589256\n",
      "Alpha: 10.0\n",
      "\tTraining accuracy (R2): 0.8549654265834381\n",
      "\tValidation accuracy (R2): 0.8171062374670245\n"
     ]
    }
   ],
   "source": [
    "best_alpha_5, best_model_5, best_train_R2_5, best_val_R2_5 = model_train_val(X_train_5, X_val_5, y_train, y_val, reg_params)"
   ]
  },
  {
   "cell_type": "code",
   "execution_count": 14,
   "metadata": {},
   "outputs": [
    {
     "name": "stdout",
     "output_type": "stream",
     "text": [
      "Best alpha: 0.0\n",
      "Coefficients: [[-9.82101045e+14  9.57319078e+14 -4.80730473e+14  7.76154863e+00\n",
      "  -6.20942415e+00]]\n",
      "Intercept: [22.93658402]\n",
      "Training accuracy (R2) of Best Model: 0.8578233919099905\n",
      "Validation accuracy (R2) of Best Model: 0.8238859835810943\n",
      "Testing accuracy (R2) of Best Model: 0.8090068116971656\n"
     ]
    }
   ],
   "source": [
    "eval_model(best_alpha_5, best_model_5, best_train_R2_5, best_val_R2_5, X_test_5, y_test)"
   ]
  },
  {
   "cell_type": "markdown",
   "metadata": {},
   "source": [
    "**Based on your results for this Problem, what insights did you gain?**\n",
    "- Overall, regularization does not improve the model's performance on validation for both *a* and *b*, meaning that penalizing larger coefficient is not helping the model (the features might be very significant in prediction or there are minimal noise/outliers)\n",
    "- The model is not overfitting and has a good generalization with a Linear Regression model (0 regularization parameter)\n",
    "- The results of using the 5 most important predictor of heating load shows that there are no significant improvement in the model's performance across all accuracy measures\n",
    "- More than 5 feautes are needed for better prediction performance\n",
    "- The wall area, roof area, and overall heigh contribute the most (by a large margin) to the heating load\n",
    "- The heating load increases with larger wall area, while it also increases with smaller roof area and overall height, as indicated by the sign of the coefficients."
   ]
  },
  {
   "cell_type": "markdown",
   "metadata": {},
   "source": [
    "### Problem 2: Classifying Breast Tumors"
   ]
  },
  {
   "cell_type": "code",
   "execution_count": 15,
   "metadata": {},
   "outputs": [],
   "source": [
    "label = [\"radius\", \"texture\", \"perimeter\", \"area\",\n",
    "         \"smoothness\", \"compactness\", \"concavity\",\n",
    "         \"concave_points\", \"symmetry\", \"fractal_dimension\"]\n",
    "labels = []\n",
    "for i in range(3):\n",
    "    labels.extend([j + str(i+1) for j in label])\n",
    "feature_names = [\"ID\", \"Diagnosis\"] + labels"
   ]
  },
  {
   "cell_type": "code",
   "execution_count": 16,
   "metadata": {},
   "outputs": [],
   "source": [
    "df2 = pd.read_csv(\"breast+cancer+wisconsin+diagnostic/wdbc.data\", names=feature_names)"
   ]
  },
  {
   "cell_type": "markdown",
   "metadata": {},
   "source": [
    "The dataset contains ~~699~~ 569 instances of breast tumors.\\\n",
    "Note: The dataset from the link provided is the Breast Cancer Wisconsin (Diagnostic) with 569 instances and 30 features"
   ]
  },
  {
   "cell_type": "code",
   "execution_count": 17,
   "metadata": {},
   "outputs": [
    {
     "data": {
      "text/html": [
       "<div>\n",
       "<style scoped>\n",
       "    .dataframe tbody tr th:only-of-type {\n",
       "        vertical-align: middle;\n",
       "    }\n",
       "\n",
       "    .dataframe tbody tr th {\n",
       "        vertical-align: top;\n",
       "    }\n",
       "\n",
       "    .dataframe thead th {\n",
       "        text-align: right;\n",
       "    }\n",
       "</style>\n",
       "<table border=\"1\" class=\"dataframe\">\n",
       "  <thead>\n",
       "    <tr style=\"text-align: right;\">\n",
       "      <th></th>\n",
       "      <th>ID</th>\n",
       "      <th>Diagnosis</th>\n",
       "      <th>radius1</th>\n",
       "      <th>texture1</th>\n",
       "      <th>perimeter1</th>\n",
       "      <th>area1</th>\n",
       "      <th>smoothness1</th>\n",
       "      <th>compactness1</th>\n",
       "      <th>concavity1</th>\n",
       "      <th>concave_points1</th>\n",
       "      <th>...</th>\n",
       "      <th>radius3</th>\n",
       "      <th>texture3</th>\n",
       "      <th>perimeter3</th>\n",
       "      <th>area3</th>\n",
       "      <th>smoothness3</th>\n",
       "      <th>compactness3</th>\n",
       "      <th>concavity3</th>\n",
       "      <th>concave_points3</th>\n",
       "      <th>symmetry3</th>\n",
       "      <th>fractal_dimension3</th>\n",
       "    </tr>\n",
       "  </thead>\n",
       "  <tbody>\n",
       "    <tr>\n",
       "      <th>0</th>\n",
       "      <td>842302</td>\n",
       "      <td>M</td>\n",
       "      <td>17.99</td>\n",
       "      <td>10.38</td>\n",
       "      <td>122.80</td>\n",
       "      <td>1001.0</td>\n",
       "      <td>0.11840</td>\n",
       "      <td>0.27760</td>\n",
       "      <td>0.3001</td>\n",
       "      <td>0.14710</td>\n",
       "      <td>...</td>\n",
       "      <td>25.38</td>\n",
       "      <td>17.33</td>\n",
       "      <td>184.60</td>\n",
       "      <td>2019.0</td>\n",
       "      <td>0.1622</td>\n",
       "      <td>0.6656</td>\n",
       "      <td>0.7119</td>\n",
       "      <td>0.2654</td>\n",
       "      <td>0.4601</td>\n",
       "      <td>0.11890</td>\n",
       "    </tr>\n",
       "    <tr>\n",
       "      <th>1</th>\n",
       "      <td>842517</td>\n",
       "      <td>M</td>\n",
       "      <td>20.57</td>\n",
       "      <td>17.77</td>\n",
       "      <td>132.90</td>\n",
       "      <td>1326.0</td>\n",
       "      <td>0.08474</td>\n",
       "      <td>0.07864</td>\n",
       "      <td>0.0869</td>\n",
       "      <td>0.07017</td>\n",
       "      <td>...</td>\n",
       "      <td>24.99</td>\n",
       "      <td>23.41</td>\n",
       "      <td>158.80</td>\n",
       "      <td>1956.0</td>\n",
       "      <td>0.1238</td>\n",
       "      <td>0.1866</td>\n",
       "      <td>0.2416</td>\n",
       "      <td>0.1860</td>\n",
       "      <td>0.2750</td>\n",
       "      <td>0.08902</td>\n",
       "    </tr>\n",
       "    <tr>\n",
       "      <th>2</th>\n",
       "      <td>84300903</td>\n",
       "      <td>M</td>\n",
       "      <td>19.69</td>\n",
       "      <td>21.25</td>\n",
       "      <td>130.00</td>\n",
       "      <td>1203.0</td>\n",
       "      <td>0.10960</td>\n",
       "      <td>0.15990</td>\n",
       "      <td>0.1974</td>\n",
       "      <td>0.12790</td>\n",
       "      <td>...</td>\n",
       "      <td>23.57</td>\n",
       "      <td>25.53</td>\n",
       "      <td>152.50</td>\n",
       "      <td>1709.0</td>\n",
       "      <td>0.1444</td>\n",
       "      <td>0.4245</td>\n",
       "      <td>0.4504</td>\n",
       "      <td>0.2430</td>\n",
       "      <td>0.3613</td>\n",
       "      <td>0.08758</td>\n",
       "    </tr>\n",
       "    <tr>\n",
       "      <th>3</th>\n",
       "      <td>84348301</td>\n",
       "      <td>M</td>\n",
       "      <td>11.42</td>\n",
       "      <td>20.38</td>\n",
       "      <td>77.58</td>\n",
       "      <td>386.1</td>\n",
       "      <td>0.14250</td>\n",
       "      <td>0.28390</td>\n",
       "      <td>0.2414</td>\n",
       "      <td>0.10520</td>\n",
       "      <td>...</td>\n",
       "      <td>14.91</td>\n",
       "      <td>26.50</td>\n",
       "      <td>98.87</td>\n",
       "      <td>567.7</td>\n",
       "      <td>0.2098</td>\n",
       "      <td>0.8663</td>\n",
       "      <td>0.6869</td>\n",
       "      <td>0.2575</td>\n",
       "      <td>0.6638</td>\n",
       "      <td>0.17300</td>\n",
       "    </tr>\n",
       "    <tr>\n",
       "      <th>4</th>\n",
       "      <td>84358402</td>\n",
       "      <td>M</td>\n",
       "      <td>20.29</td>\n",
       "      <td>14.34</td>\n",
       "      <td>135.10</td>\n",
       "      <td>1297.0</td>\n",
       "      <td>0.10030</td>\n",
       "      <td>0.13280</td>\n",
       "      <td>0.1980</td>\n",
       "      <td>0.10430</td>\n",
       "      <td>...</td>\n",
       "      <td>22.54</td>\n",
       "      <td>16.67</td>\n",
       "      <td>152.20</td>\n",
       "      <td>1575.0</td>\n",
       "      <td>0.1374</td>\n",
       "      <td>0.2050</td>\n",
       "      <td>0.4000</td>\n",
       "      <td>0.1625</td>\n",
       "      <td>0.2364</td>\n",
       "      <td>0.07678</td>\n",
       "    </tr>\n",
       "  </tbody>\n",
       "</table>\n",
       "<p>5 rows × 32 columns</p>\n",
       "</div>"
      ],
      "text/plain": [
       "         ID Diagnosis  radius1  texture1  perimeter1   area1  smoothness1  \\\n",
       "0    842302         M    17.99     10.38      122.80  1001.0      0.11840   \n",
       "1    842517         M    20.57     17.77      132.90  1326.0      0.08474   \n",
       "2  84300903         M    19.69     21.25      130.00  1203.0      0.10960   \n",
       "3  84348301         M    11.42     20.38       77.58   386.1      0.14250   \n",
       "4  84358402         M    20.29     14.34      135.10  1297.0      0.10030   \n",
       "\n",
       "   compactness1  concavity1  concave_points1  ...  radius3  texture3  \\\n",
       "0       0.27760      0.3001          0.14710  ...    25.38     17.33   \n",
       "1       0.07864      0.0869          0.07017  ...    24.99     23.41   \n",
       "2       0.15990      0.1974          0.12790  ...    23.57     25.53   \n",
       "3       0.28390      0.2414          0.10520  ...    14.91     26.50   \n",
       "4       0.13280      0.1980          0.10430  ...    22.54     16.67   \n",
       "\n",
       "   perimeter3   area3  smoothness3  compactness3  concavity3  concave_points3  \\\n",
       "0      184.60  2019.0       0.1622        0.6656      0.7119           0.2654   \n",
       "1      158.80  1956.0       0.1238        0.1866      0.2416           0.1860   \n",
       "2      152.50  1709.0       0.1444        0.4245      0.4504           0.2430   \n",
       "3       98.87   567.7       0.2098        0.8663      0.6869           0.2575   \n",
       "4      152.20  1575.0       0.1374        0.2050      0.4000           0.1625   \n",
       "\n",
       "   symmetry3  fractal_dimension3  \n",
       "0     0.4601             0.11890  \n",
       "1     0.2750             0.08902  \n",
       "2     0.3613             0.08758  \n",
       "3     0.6638             0.17300  \n",
       "4     0.2364             0.07678  \n",
       "\n",
       "[5 rows x 32 columns]"
      ]
     },
     "execution_count": 17,
     "metadata": {},
     "output_type": "execute_result"
    }
   ],
   "source": [
    "df2.head()"
   ]
  },
  {
   "cell_type": "code",
   "execution_count": 18,
   "metadata": {},
   "outputs": [
    {
     "data": {
      "text/plain": [
       "(569, 32)"
      ]
     },
     "execution_count": 18,
     "metadata": {},
     "output_type": "execute_result"
    }
   ],
   "source": [
    "df2.shape"
   ]
  },
  {
   "cell_type": "markdown",
   "metadata": {},
   "source": [
    "Remove rows with missing values"
   ]
  },
  {
   "cell_type": "code",
   "execution_count": 19,
   "metadata": {},
   "outputs": [
    {
     "data": {
      "text/plain": [
       "(569, 32)"
      ]
     },
     "execution_count": 19,
     "metadata": {},
     "output_type": "execute_result"
    }
   ],
   "source": [
    "df2.dropna(inplace=True)\n",
    "df2.shape"
   ]
  },
  {
   "cell_type": "markdown",
   "metadata": {},
   "source": [
    "Note: There are no rows with missing values"
   ]
  },
  {
   "cell_type": "markdown",
   "metadata": {},
   "source": [
    "Remove the column ~~\"Sample code number\"~~ \"ID\""
   ]
  },
  {
   "cell_type": "code",
   "execution_count": 20,
   "metadata": {},
   "outputs": [
    {
     "data": {
      "text/html": [
       "<div>\n",
       "<style scoped>\n",
       "    .dataframe tbody tr th:only-of-type {\n",
       "        vertical-align: middle;\n",
       "    }\n",
       "\n",
       "    .dataframe tbody tr th {\n",
       "        vertical-align: top;\n",
       "    }\n",
       "\n",
       "    .dataframe thead th {\n",
       "        text-align: right;\n",
       "    }\n",
       "</style>\n",
       "<table border=\"1\" class=\"dataframe\">\n",
       "  <thead>\n",
       "    <tr style=\"text-align: right;\">\n",
       "      <th></th>\n",
       "      <th>Diagnosis</th>\n",
       "      <th>radius1</th>\n",
       "      <th>texture1</th>\n",
       "      <th>perimeter1</th>\n",
       "      <th>area1</th>\n",
       "      <th>smoothness1</th>\n",
       "      <th>compactness1</th>\n",
       "      <th>concavity1</th>\n",
       "      <th>concave_points1</th>\n",
       "      <th>symmetry1</th>\n",
       "      <th>...</th>\n",
       "      <th>radius3</th>\n",
       "      <th>texture3</th>\n",
       "      <th>perimeter3</th>\n",
       "      <th>area3</th>\n",
       "      <th>smoothness3</th>\n",
       "      <th>compactness3</th>\n",
       "      <th>concavity3</th>\n",
       "      <th>concave_points3</th>\n",
       "      <th>symmetry3</th>\n",
       "      <th>fractal_dimension3</th>\n",
       "    </tr>\n",
       "  </thead>\n",
       "  <tbody>\n",
       "    <tr>\n",
       "      <th>0</th>\n",
       "      <td>M</td>\n",
       "      <td>17.99</td>\n",
       "      <td>10.38</td>\n",
       "      <td>122.80</td>\n",
       "      <td>1001.0</td>\n",
       "      <td>0.11840</td>\n",
       "      <td>0.27760</td>\n",
       "      <td>0.3001</td>\n",
       "      <td>0.14710</td>\n",
       "      <td>0.2419</td>\n",
       "      <td>...</td>\n",
       "      <td>25.38</td>\n",
       "      <td>17.33</td>\n",
       "      <td>184.60</td>\n",
       "      <td>2019.0</td>\n",
       "      <td>0.1622</td>\n",
       "      <td>0.6656</td>\n",
       "      <td>0.7119</td>\n",
       "      <td>0.2654</td>\n",
       "      <td>0.4601</td>\n",
       "      <td>0.11890</td>\n",
       "    </tr>\n",
       "    <tr>\n",
       "      <th>1</th>\n",
       "      <td>M</td>\n",
       "      <td>20.57</td>\n",
       "      <td>17.77</td>\n",
       "      <td>132.90</td>\n",
       "      <td>1326.0</td>\n",
       "      <td>0.08474</td>\n",
       "      <td>0.07864</td>\n",
       "      <td>0.0869</td>\n",
       "      <td>0.07017</td>\n",
       "      <td>0.1812</td>\n",
       "      <td>...</td>\n",
       "      <td>24.99</td>\n",
       "      <td>23.41</td>\n",
       "      <td>158.80</td>\n",
       "      <td>1956.0</td>\n",
       "      <td>0.1238</td>\n",
       "      <td>0.1866</td>\n",
       "      <td>0.2416</td>\n",
       "      <td>0.1860</td>\n",
       "      <td>0.2750</td>\n",
       "      <td>0.08902</td>\n",
       "    </tr>\n",
       "    <tr>\n",
       "      <th>2</th>\n",
       "      <td>M</td>\n",
       "      <td>19.69</td>\n",
       "      <td>21.25</td>\n",
       "      <td>130.00</td>\n",
       "      <td>1203.0</td>\n",
       "      <td>0.10960</td>\n",
       "      <td>0.15990</td>\n",
       "      <td>0.1974</td>\n",
       "      <td>0.12790</td>\n",
       "      <td>0.2069</td>\n",
       "      <td>...</td>\n",
       "      <td>23.57</td>\n",
       "      <td>25.53</td>\n",
       "      <td>152.50</td>\n",
       "      <td>1709.0</td>\n",
       "      <td>0.1444</td>\n",
       "      <td>0.4245</td>\n",
       "      <td>0.4504</td>\n",
       "      <td>0.2430</td>\n",
       "      <td>0.3613</td>\n",
       "      <td>0.08758</td>\n",
       "    </tr>\n",
       "    <tr>\n",
       "      <th>3</th>\n",
       "      <td>M</td>\n",
       "      <td>11.42</td>\n",
       "      <td>20.38</td>\n",
       "      <td>77.58</td>\n",
       "      <td>386.1</td>\n",
       "      <td>0.14250</td>\n",
       "      <td>0.28390</td>\n",
       "      <td>0.2414</td>\n",
       "      <td>0.10520</td>\n",
       "      <td>0.2597</td>\n",
       "      <td>...</td>\n",
       "      <td>14.91</td>\n",
       "      <td>26.50</td>\n",
       "      <td>98.87</td>\n",
       "      <td>567.7</td>\n",
       "      <td>0.2098</td>\n",
       "      <td>0.8663</td>\n",
       "      <td>0.6869</td>\n",
       "      <td>0.2575</td>\n",
       "      <td>0.6638</td>\n",
       "      <td>0.17300</td>\n",
       "    </tr>\n",
       "    <tr>\n",
       "      <th>4</th>\n",
       "      <td>M</td>\n",
       "      <td>20.29</td>\n",
       "      <td>14.34</td>\n",
       "      <td>135.10</td>\n",
       "      <td>1297.0</td>\n",
       "      <td>0.10030</td>\n",
       "      <td>0.13280</td>\n",
       "      <td>0.1980</td>\n",
       "      <td>0.10430</td>\n",
       "      <td>0.1809</td>\n",
       "      <td>...</td>\n",
       "      <td>22.54</td>\n",
       "      <td>16.67</td>\n",
       "      <td>152.20</td>\n",
       "      <td>1575.0</td>\n",
       "      <td>0.1374</td>\n",
       "      <td>0.2050</td>\n",
       "      <td>0.4000</td>\n",
       "      <td>0.1625</td>\n",
       "      <td>0.2364</td>\n",
       "      <td>0.07678</td>\n",
       "    </tr>\n",
       "  </tbody>\n",
       "</table>\n",
       "<p>5 rows × 31 columns</p>\n",
       "</div>"
      ],
      "text/plain": [
       "  Diagnosis  radius1  texture1  perimeter1   area1  smoothness1  compactness1  \\\n",
       "0         M    17.99     10.38      122.80  1001.0      0.11840       0.27760   \n",
       "1         M    20.57     17.77      132.90  1326.0      0.08474       0.07864   \n",
       "2         M    19.69     21.25      130.00  1203.0      0.10960       0.15990   \n",
       "3         M    11.42     20.38       77.58   386.1      0.14250       0.28390   \n",
       "4         M    20.29     14.34      135.10  1297.0      0.10030       0.13280   \n",
       "\n",
       "   concavity1  concave_points1  symmetry1  ...  radius3  texture3  perimeter3  \\\n",
       "0      0.3001          0.14710     0.2419  ...    25.38     17.33      184.60   \n",
       "1      0.0869          0.07017     0.1812  ...    24.99     23.41      158.80   \n",
       "2      0.1974          0.12790     0.2069  ...    23.57     25.53      152.50   \n",
       "3      0.2414          0.10520     0.2597  ...    14.91     26.50       98.87   \n",
       "4      0.1980          0.10430     0.1809  ...    22.54     16.67      152.20   \n",
       "\n",
       "    area3  smoothness3  compactness3  concavity3  concave_points3  symmetry3  \\\n",
       "0  2019.0       0.1622        0.6656      0.7119           0.2654     0.4601   \n",
       "1  1956.0       0.1238        0.1866      0.2416           0.1860     0.2750   \n",
       "2  1709.0       0.1444        0.4245      0.4504           0.2430     0.3613   \n",
       "3   567.7       0.2098        0.8663      0.6869           0.2575     0.6638   \n",
       "4  1575.0       0.1374        0.2050      0.4000           0.1625     0.2364   \n",
       "\n",
       "   fractal_dimension3  \n",
       "0             0.11890  \n",
       "1             0.08902  \n",
       "2             0.08758  \n",
       "3             0.17300  \n",
       "4             0.07678  \n",
       "\n",
       "[5 rows x 31 columns]"
      ]
     },
     "execution_count": 20,
     "metadata": {},
     "output_type": "execute_result"
    }
   ],
   "source": [
    "df2.drop(\"ID\", axis=1, inplace=True)\n",
    "df2.head()"
   ]
  },
  {
   "cell_type": "markdown",
   "metadata": {},
   "source": [
    "Replace the ~~“Class”~~ \"Diagnosis\" values into 0’s and 1’s (0 for benign, 1 for malignant)"
   ]
  },
  {
   "cell_type": "code",
   "execution_count": 21,
   "metadata": {},
   "outputs": [
    {
     "data": {
      "text/html": [
       "<div>\n",
       "<style scoped>\n",
       "    .dataframe tbody tr th:only-of-type {\n",
       "        vertical-align: middle;\n",
       "    }\n",
       "\n",
       "    .dataframe tbody tr th {\n",
       "        vertical-align: top;\n",
       "    }\n",
       "\n",
       "    .dataframe thead th {\n",
       "        text-align: right;\n",
       "    }\n",
       "</style>\n",
       "<table border=\"1\" class=\"dataframe\">\n",
       "  <thead>\n",
       "    <tr style=\"text-align: right;\">\n",
       "      <th></th>\n",
       "      <th>Diagnosis</th>\n",
       "      <th>radius1</th>\n",
       "      <th>texture1</th>\n",
       "      <th>perimeter1</th>\n",
       "      <th>area1</th>\n",
       "      <th>smoothness1</th>\n",
       "      <th>compactness1</th>\n",
       "      <th>concavity1</th>\n",
       "      <th>concave_points1</th>\n",
       "      <th>symmetry1</th>\n",
       "      <th>...</th>\n",
       "      <th>radius3</th>\n",
       "      <th>texture3</th>\n",
       "      <th>perimeter3</th>\n",
       "      <th>area3</th>\n",
       "      <th>smoothness3</th>\n",
       "      <th>compactness3</th>\n",
       "      <th>concavity3</th>\n",
       "      <th>concave_points3</th>\n",
       "      <th>symmetry3</th>\n",
       "      <th>fractal_dimension3</th>\n",
       "    </tr>\n",
       "  </thead>\n",
       "  <tbody>\n",
       "    <tr>\n",
       "      <th>0</th>\n",
       "      <td>1.0</td>\n",
       "      <td>17.99</td>\n",
       "      <td>10.38</td>\n",
       "      <td>122.80</td>\n",
       "      <td>1001.0</td>\n",
       "      <td>0.11840</td>\n",
       "      <td>0.27760</td>\n",
       "      <td>0.3001</td>\n",
       "      <td>0.14710</td>\n",
       "      <td>0.2419</td>\n",
       "      <td>...</td>\n",
       "      <td>25.38</td>\n",
       "      <td>17.33</td>\n",
       "      <td>184.60</td>\n",
       "      <td>2019.0</td>\n",
       "      <td>0.1622</td>\n",
       "      <td>0.6656</td>\n",
       "      <td>0.7119</td>\n",
       "      <td>0.2654</td>\n",
       "      <td>0.4601</td>\n",
       "      <td>0.11890</td>\n",
       "    </tr>\n",
       "    <tr>\n",
       "      <th>1</th>\n",
       "      <td>1.0</td>\n",
       "      <td>20.57</td>\n",
       "      <td>17.77</td>\n",
       "      <td>132.90</td>\n",
       "      <td>1326.0</td>\n",
       "      <td>0.08474</td>\n",
       "      <td>0.07864</td>\n",
       "      <td>0.0869</td>\n",
       "      <td>0.07017</td>\n",
       "      <td>0.1812</td>\n",
       "      <td>...</td>\n",
       "      <td>24.99</td>\n",
       "      <td>23.41</td>\n",
       "      <td>158.80</td>\n",
       "      <td>1956.0</td>\n",
       "      <td>0.1238</td>\n",
       "      <td>0.1866</td>\n",
       "      <td>0.2416</td>\n",
       "      <td>0.1860</td>\n",
       "      <td>0.2750</td>\n",
       "      <td>0.08902</td>\n",
       "    </tr>\n",
       "    <tr>\n",
       "      <th>2</th>\n",
       "      <td>1.0</td>\n",
       "      <td>19.69</td>\n",
       "      <td>21.25</td>\n",
       "      <td>130.00</td>\n",
       "      <td>1203.0</td>\n",
       "      <td>0.10960</td>\n",
       "      <td>0.15990</td>\n",
       "      <td>0.1974</td>\n",
       "      <td>0.12790</td>\n",
       "      <td>0.2069</td>\n",
       "      <td>...</td>\n",
       "      <td>23.57</td>\n",
       "      <td>25.53</td>\n",
       "      <td>152.50</td>\n",
       "      <td>1709.0</td>\n",
       "      <td>0.1444</td>\n",
       "      <td>0.4245</td>\n",
       "      <td>0.4504</td>\n",
       "      <td>0.2430</td>\n",
       "      <td>0.3613</td>\n",
       "      <td>0.08758</td>\n",
       "    </tr>\n",
       "    <tr>\n",
       "      <th>3</th>\n",
       "      <td>1.0</td>\n",
       "      <td>11.42</td>\n",
       "      <td>20.38</td>\n",
       "      <td>77.58</td>\n",
       "      <td>386.1</td>\n",
       "      <td>0.14250</td>\n",
       "      <td>0.28390</td>\n",
       "      <td>0.2414</td>\n",
       "      <td>0.10520</td>\n",
       "      <td>0.2597</td>\n",
       "      <td>...</td>\n",
       "      <td>14.91</td>\n",
       "      <td>26.50</td>\n",
       "      <td>98.87</td>\n",
       "      <td>567.7</td>\n",
       "      <td>0.2098</td>\n",
       "      <td>0.8663</td>\n",
       "      <td>0.6869</td>\n",
       "      <td>0.2575</td>\n",
       "      <td>0.6638</td>\n",
       "      <td>0.17300</td>\n",
       "    </tr>\n",
       "    <tr>\n",
       "      <th>4</th>\n",
       "      <td>1.0</td>\n",
       "      <td>20.29</td>\n",
       "      <td>14.34</td>\n",
       "      <td>135.10</td>\n",
       "      <td>1297.0</td>\n",
       "      <td>0.10030</td>\n",
       "      <td>0.13280</td>\n",
       "      <td>0.1980</td>\n",
       "      <td>0.10430</td>\n",
       "      <td>0.1809</td>\n",
       "      <td>...</td>\n",
       "      <td>22.54</td>\n",
       "      <td>16.67</td>\n",
       "      <td>152.20</td>\n",
       "      <td>1575.0</td>\n",
       "      <td>0.1374</td>\n",
       "      <td>0.2050</td>\n",
       "      <td>0.4000</td>\n",
       "      <td>0.1625</td>\n",
       "      <td>0.2364</td>\n",
       "      <td>0.07678</td>\n",
       "    </tr>\n",
       "  </tbody>\n",
       "</table>\n",
       "<p>5 rows × 31 columns</p>\n",
       "</div>"
      ],
      "text/plain": [
       "   Diagnosis  radius1  texture1  perimeter1   area1  smoothness1  \\\n",
       "0        1.0    17.99     10.38      122.80  1001.0      0.11840   \n",
       "1        1.0    20.57     17.77      132.90  1326.0      0.08474   \n",
       "2        1.0    19.69     21.25      130.00  1203.0      0.10960   \n",
       "3        1.0    11.42     20.38       77.58   386.1      0.14250   \n",
       "4        1.0    20.29     14.34      135.10  1297.0      0.10030   \n",
       "\n",
       "   compactness1  concavity1  concave_points1  symmetry1  ...  radius3  \\\n",
       "0       0.27760      0.3001          0.14710     0.2419  ...    25.38   \n",
       "1       0.07864      0.0869          0.07017     0.1812  ...    24.99   \n",
       "2       0.15990      0.1974          0.12790     0.2069  ...    23.57   \n",
       "3       0.28390      0.2414          0.10520     0.2597  ...    14.91   \n",
       "4       0.13280      0.1980          0.10430     0.1809  ...    22.54   \n",
       "\n",
       "   texture3  perimeter3   area3  smoothness3  compactness3  concavity3  \\\n",
       "0     17.33      184.60  2019.0       0.1622        0.6656      0.7119   \n",
       "1     23.41      158.80  1956.0       0.1238        0.1866      0.2416   \n",
       "2     25.53      152.50  1709.0       0.1444        0.4245      0.4504   \n",
       "3     26.50       98.87   567.7       0.2098        0.8663      0.6869   \n",
       "4     16.67      152.20  1575.0       0.1374        0.2050      0.4000   \n",
       "\n",
       "   concave_points3  symmetry3  fractal_dimension3  \n",
       "0           0.2654     0.4601             0.11890  \n",
       "1           0.1860     0.2750             0.08902  \n",
       "2           0.2430     0.3613             0.08758  \n",
       "3           0.2575     0.6638             0.17300  \n",
       "4           0.1625     0.2364             0.07678  \n",
       "\n",
       "[5 rows x 31 columns]"
      ]
     },
     "execution_count": 21,
     "metadata": {},
     "output_type": "execute_result"
    }
   ],
   "source": [
    "ordinal_encoder = OrdinalEncoder(categories=[[\"B\", \"M\"]])\n",
    "df2[\"Diagnosis\"] = ordinal_encoder.fit_transform(df2[[\"Diagnosis\"]])\n",
    "df2.head()"
   ]
  },
  {
   "cell_type": "markdown",
   "metadata": {},
   "source": [
    "### a."
   ]
  },
  {
   "cell_type": "markdown",
   "metadata": {},
   "source": [
    "**Split the samples into 70% Training and 30% Testing at random with \"stratify=y2\"**"
   ]
  },
  {
   "cell_type": "code",
   "execution_count": 22,
   "metadata": {},
   "outputs": [
    {
     "name": "stdout",
     "output_type": "stream",
     "text": [
      "(398, 30) (398,)\n",
      "(171, 30) (171,)\n"
     ]
    }
   ],
   "source": [
    "X2 = df2.iloc[:, 1:].to_numpy()\n",
    "y2 = df2.iloc[:, 0].to_numpy()\n",
    "X2_train, X2_test, y2_train, y2_test = train_test_split(X2, y2, test_size=0.3, stratify=y2, random_state=0)\n",
    "print(X2_train.shape, y2_train.shape)\n",
    "print(X2_test.shape, y2_test.shape)"
   ]
  },
  {
   "cell_type": "markdown",
   "metadata": {},
   "source": [
    "**Build a pipeline using the Standard scaler and logistic regression with default penalty settings**"
   ]
  },
  {
   "cell_type": "code",
   "execution_count": 23,
   "metadata": {},
   "outputs": [],
   "source": [
    "model2 = make_pipeline(StandardScaler(),\n",
    "                       LogisticRegression()).fit(X2_train, y2_train)"
   ]
  },
  {
   "cell_type": "markdown",
   "metadata": {},
   "source": [
    "**Model’s training and testing accuracy**"
   ]
  },
  {
   "cell_type": "code",
   "execution_count": 24,
   "metadata": {},
   "outputs": [
    {
     "name": "stdout",
     "output_type": "stream",
     "text": [
      "training accuracy = 0.9949748743718593\n",
      "testing accuracy = 0.9532163742690059\n"
     ]
    }
   ],
   "source": [
    "print(f\"training accuracy = {model2.score(X2_train, y2_train)}\")\n",
    "print(f\"testing accuracy = {model2.score(X2_test, y2_test)}\")"
   ]
  },
  {
   "cell_type": "markdown",
   "metadata": {},
   "source": [
    "**Most important features (Top 10)**"
   ]
  },
  {
   "cell_type": "code",
   "execution_count": 43,
   "metadata": {},
   "outputs": [
    {
     "data": {
      "text/html": [
       "<div>\n",
       "<style scoped>\n",
       "    .dataframe tbody tr th:only-of-type {\n",
       "        vertical-align: middle;\n",
       "    }\n",
       "\n",
       "    .dataframe tbody tr th {\n",
       "        vertical-align: top;\n",
       "    }\n",
       "\n",
       "    .dataframe thead th {\n",
       "        text-align: right;\n",
       "    }\n",
       "</style>\n",
       "<table border=\"1\" class=\"dataframe\">\n",
       "  <thead>\n",
       "    <tr style=\"text-align: right;\">\n",
       "      <th></th>\n",
       "      <th>Feature Name</th>\n",
       "      <th>Coefficient</th>\n",
       "    </tr>\n",
       "    <tr>\n",
       "      <th>Ranking</th>\n",
       "      <th></th>\n",
       "      <th></th>\n",
       "    </tr>\n",
       "  </thead>\n",
       "  <tbody>\n",
       "    <tr>\n",
       "      <th>0</th>\n",
       "      <td>radius2</td>\n",
       "      <td>1.254367</td>\n",
       "    </tr>\n",
       "    <tr>\n",
       "      <th>1</th>\n",
       "      <td>radius3</td>\n",
       "      <td>1.029123</td>\n",
       "    </tr>\n",
       "    <tr>\n",
       "      <th>2</th>\n",
       "      <td>concave_points1</td>\n",
       "      <td>0.946317</td>\n",
       "    </tr>\n",
       "    <tr>\n",
       "      <th>3</th>\n",
       "      <td>symmetry3</td>\n",
       "      <td>0.940877</td>\n",
       "    </tr>\n",
       "    <tr>\n",
       "      <th>4</th>\n",
       "      <td>compactness2</td>\n",
       "      <td>-0.924221</td>\n",
       "    </tr>\n",
       "    <tr>\n",
       "      <th>5</th>\n",
       "      <td>perimeter2</td>\n",
       "      <td>0.890697</td>\n",
       "    </tr>\n",
       "    <tr>\n",
       "      <th>6</th>\n",
       "      <td>perimeter3</td>\n",
       "      <td>0.890140</td>\n",
       "    </tr>\n",
       "    <tr>\n",
       "      <th>7</th>\n",
       "      <td>area3</td>\n",
       "      <td>0.879648</td>\n",
       "    </tr>\n",
       "    <tr>\n",
       "      <th>8</th>\n",
       "      <td>smoothness3</td>\n",
       "      <td>0.820349</td>\n",
       "    </tr>\n",
       "    <tr>\n",
       "      <th>9</th>\n",
       "      <td>concave_points3</td>\n",
       "      <td>0.793571</td>\n",
       "    </tr>\n",
       "  </tbody>\n",
       "</table>\n",
       "</div>"
      ],
      "text/plain": [
       "            Feature Name  Coefficient\n",
       "Ranking                              \n",
       "0                radius2     1.254367\n",
       "1                radius3     1.029123\n",
       "2        concave_points1     0.946317\n",
       "3              symmetry3     0.940877\n",
       "4           compactness2    -0.924221\n",
       "5             perimeter2     0.890697\n",
       "6             perimeter3     0.890140\n",
       "7                  area3     0.879648\n",
       "8            smoothness3     0.820349\n",
       "9        concave_points3     0.793571"
      ]
     },
     "execution_count": 43,
     "metadata": {},
     "output_type": "execute_result"
    }
   ],
   "source": [
    "coef2 = model2[1].coef_[0]\n",
    "sorted_indices2 = np.argsort(np.abs(coef2))[::-1]\n",
    "top_coef2 = pd.DataFrame({\"Ranking\": range(30),\n",
    "                          \"Feature Name\": np.array(feature_names[2:])[sorted_indices2],\n",
    "                          \"Coefficient\": coef2[sorted_indices2]})\n",
    "top_coef2.set_index(\"Ranking\", inplace=True)\n",
    "top_coef2.head(10)"
   ]
  },
  {
   "cell_type": "markdown",
   "metadata": {},
   "source": [
    "### b."
   ]
  },
  {
   "cell_type": "markdown",
   "metadata": {},
   "source": [
    "**Training Evaluation Metrics**"
   ]
  },
  {
   "cell_type": "code",
   "execution_count": 26,
   "metadata": {},
   "outputs": [
    {
     "name": "stdout",
     "output_type": "stream",
     "text": [
      "F1-score: 0.9931972789115647\n",
      "Precision: 1.0\n",
      "Recall: 0.9864864864864865\n",
      "False alarm rate: 0.0\n"
     ]
    },
    {
     "data": {
      "image/png": "[encoded data removed]",
      "text/plain": [
       "<Figure size 640x480 with 2 Axes>"
      ]
     },
     "metadata": {},
     "output_type": "display_data"
    }
   ],
   "source": [
    "y2_train_pred = model2.predict(X2_train)\n",
    "cfm_train = confusion_matrix(y2_train, y2_train_pred)\n",
    "cm_display_train = ConfusionMatrixDisplay(confusion_matrix = cfm_train, display_labels = [\"Benign\", \"Malignant\"])\n",
    "cm_display_train.plot()\n",
    "plt.title('Confusion Matrix (Training)')\n",
    "print(f\"F1-score: {f1_score(y2_train, y2_train_pred)}\")\n",
    "print(f\"Precision: {precision_score(y2_train, y2_train_pred)}\")\n",
    "print(f\"Recall: {recall_score(y2_train, y2_train_pred)}\")\n",
    "print(f\"False alarm rate: {cfm_train[0, 1] / (cfm_train[0, 0] + cfm_train[0, 1])}\")"
   ]
  },
  {
   "cell_type": "code",
   "execution_count": 27,
   "metadata": {},
   "outputs": [
    {
     "name": "stdout",
     "output_type": "stream",
     "text": [
      "AUC:  0.9982972972972973\n"
     ]
    },
    {
     "data": {
      "image/png": "[encoded data removed]",
      "text/plain": [
       "<Figure size 640x480 with 1 Axes>"
      ]
     },
     "metadata": {},
     "output_type": "display_data"
    }
   ],
   "source": [
    "y2_train2 = model2.predict_proba(X2_train)\n",
    "fpr_train, tpr_train, thresholds_train = roc_curve(y2_train, y2_train2[:, 1])\n",
    "print(f\"AUC: \",roc_auc_score(y2_train, y2_train2[:, 1]))\n",
    "plt.plot(fpr_train,tpr_train,'b-o')\n",
    "plt.xlabel('False Positive Rate')\n",
    "plt.ylabel('True Positive Rate')\n",
    "plt.grid()\n",
    "plt.title(\"Training\")\n",
    "plt.show()"
   ]
  },
  {
   "cell_type": "markdown",
   "metadata": {},
   "source": [
    "**Testing Evaluation Metrics**"
   ]
  },
  {
   "cell_type": "code",
   "execution_count": 28,
   "metadata": {},
   "outputs": [
    {
     "name": "stdout",
     "output_type": "stream",
     "text": [
      "F1-score: 0.9375\n",
      "Precision: 0.9375\n",
      "Recall: 0.9375\n",
      "False alarm rate: 0.037383177570093455\n"
     ]
    },
    {
     "data": {
      "image/png": "[encoded data removed]",
      "text/plain": [
       "<Figure size 640x480 with 2 Axes>"
      ]
     },
     "metadata": {},
     "output_type": "display_data"
    }
   ],
   "source": [
    "y2_test_pred = model2.predict(X2_test)\n",
    "cfm_test = confusion_matrix(y2_test, y2_test_pred)\n",
    "cm_display_test = ConfusionMatrixDisplay(confusion_matrix = cfm_test, display_labels = [\"Benign\", \"Malignant\"])\n",
    "cm_display_test.plot()\n",
    "plt.title('Confusion Matrix (Testing)')\n",
    "print(f\"F1-score: {f1_score(y2_test, y2_test_pred)}\")\n",
    "print(f\"Precision: {precision_score(y2_test, y2_test_pred)}\")\n",
    "print(f\"Recall: {recall_score(y2_test, y2_test_pred)}\")\n",
    "print(f\"False alarm rate: {cfm_test[0, 1] / (cfm_test[0, 0] + cfm_test[0, 1])}\")"
   ]
  },
  {
   "cell_type": "code",
   "execution_count": 29,
   "metadata": {},
   "outputs": [
    {
     "name": "stdout",
     "output_type": "stream",
     "text": [
      "AUC:  0.9916764018691588\n"
     ]
    },
    {
     "data": {
      "image/png": "[encoded data removed]",
      "text/plain": [
       "<Figure size 640x480 with 1 Axes>"
      ]
     },
     "metadata": {},
     "output_type": "display_data"
    }
   ],
   "source": [
    "y2_test2 = model2.predict_proba(X2_test)\n",
    "fpr_test, tpr_test, thresholds_test = roc_curve(y2_test, y2_test2[:, 1])\n",
    "print(f\"AUC: \",roc_auc_score(y2_test, y2_test2[:, 1]))\n",
    "plt.plot(fpr_test, tpr_test,'b-o')\n",
    "plt.xlabel('False Positive Rate')\n",
    "plt.ylabel('True Positive Rate')\n",
    "plt.grid()\n",
    "plt.title(\"Testing\")\n",
    "plt.show()"
   ]
  },
  {
   "cell_type": "markdown",
   "metadata": {},
   "source": [
    "**Based on your results for this Problem, what insights did you gain?**\n",
    "- The testing accuracy is just slightly lesser than the training accuracy\n",
    "- The Logistic Regression model performed well based on the high accuracy for both training and testing\n",
    "- Radius, concave points, and perimeter were the features that has a higher contribution (based on its multiple appearance in the top 10 features) in predicting tumor classification\n",
    "- Radius in particular is an important factor in determining benign and malignant tumor\n",
    "- The model has perfect precision and false alarm rate on training, meaning it successfully classified all malignant tumor in the train set\n",
    "- The model has equal F1-score, precision and recall with very small false alarm rate on testing\n",
    "- A small false alarm rate is good because it means that people with benign tumor are not frequently diagnosed with malignant tumor\n",
    "- The AUC score of both training and testing are similar, indicating that the model is not overfitting\n",
    "- The threshold can be adjusted for testing can be adjusted to diagnose 100% (TPR) of people that have malignant tumor at the expense of misdiagnosing (FPR) some of people having benign. This might be useful on cases where having a certain type of tumor can be fatal.\n"
   ]
  }
 ],
 "metadata": {
  "kernelspec": {
   "display_name": "base",
   "language": "python",
   "name": "python3"
  },
  "language_info": {
   "codemirror_mode": {
    "name": "ipython",
    "version": 3
   },
   "file_extension": ".py",
   "mimetype": "text/x-python",
   "name": "python",
   "nbconvert_exporter": "python",
   "pygments_lexer": "ipython3",
   "version": "0.0.0"
  }
 },
 "nbformat": 4,
 "nbformat_minor": 2
}
